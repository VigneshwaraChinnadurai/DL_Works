{
 "cells": [
  {
   "cell_type": "markdown",
   "metadata": {},
   "source": [
    "# Character-Level LSTM in PyTorch\n",
    "\n",
    "In this notebook, I'll construct a character-level LSTM with PyTorch. The network will train character by character on some text, then generate new text character by character. As an example, I will train on Anna Karenina. **This model will be able to generate new text based on the text from the book!**\n",
    "\n",
    "This network is based off of Andrej Karpathy's [post on RNNs](http://karpathy.github.io/2015/05/21/rnn-effectiveness/) and [implementation in Torch](https://github.com/karpathy/char-rnn). Below is the general architecture of the character-wise RNN.\n",
    "\n",
    "<img src=\"assets/charseq.jpeg\" width=\"500\">"
   ]
  },
  {
   "cell_type": "markdown",
   "metadata": {},
   "source": [
    "First let's load in our required resources for data loading and model creation."
   ]
  },
  {
   "cell_type": "code",
   "execution_count": 1,
   "metadata": {},
   "outputs": [],
   "source": [
    "import numpy as np\n",
    "import torch\n",
    "from torch import nn\n",
    "import torch.nn.functional as F"
   ]
  },
  {
   "cell_type": "markdown",
   "metadata": {},
   "source": [
    "## Load in Data\n",
    "\n",
    "Then, we'll load the Anna Karenina text file and convert it into integers for our network to use. "
   ]
  },
  {
   "cell_type": "code",
   "execution_count": 2,
   "metadata": {},
   "outputs": [],
   "source": [
    "# open text file and read in data as `text`\n",
    "with open('data/anna.txt', 'r') as f:\n",
    "    text = f.read()"
   ]
  },
  {
   "cell_type": "markdown",
   "metadata": {},
   "source": [
    "Let's check out the first 100 characters, make sure everything is peachy. According to the [American Book Review](http://americanbookreview.org/100bestlines.asp), this is the 6th best first line of a book ever."
   ]
  },
  {
   "cell_type": "code",
   "execution_count": 3,
   "metadata": {},
   "outputs": [
    {
     "data": {
      "text/plain": [
       "'Chapter 1\\n\\n\\nHappy families are all alike; every unhappy family is unhappy in its own\\nway.\\n\\nEverythin'"
      ]
     },
     "execution_count": 3,
     "metadata": {},
     "output_type": "execute_result"
    }
   ],
   "source": [
    "text[:100]"
   ]
  },
  {
   "cell_type": "markdown",
   "metadata": {},
   "source": [
    "### Tokenization\n",
    "\n",
    "In the cells, below, I'm creating a couple **dictionaries** to convert the characters to and from integers. Encoding the characters as integers makes it easier to use as input in the network."
   ]
  },
  {
   "cell_type": "code",
   "execution_count": 4,
   "metadata": {},
   "outputs": [],
   "source": [
    "# encode the text and map each character to an integer and vice versa\n",
    "\n",
    "# we create two dictionaries:\n",
    "# 1. int2char, which maps integers to characters\n",
    "# 2. char2int, which maps characters to unique integers\n",
    "chars = tuple(set(text))\n",
    "int2char = dict(enumerate(chars))\n",
    "char2int = {ch: ii for ii, ch in int2char.items()}\n",
    "\n",
    "# encode the text\n",
    "encoded = np.array([char2int[ch] for ch in text])"
   ]
  },
  {
   "cell_type": "markdown",
   "metadata": {},
   "source": [
    "And we can see those same characters from above, encoded as integers."
   ]
  },
  {
   "cell_type": "code",
   "execution_count": 5,
   "metadata": {},
   "outputs": [
    {
     "data": {
      "text/plain": [
       "array([58, 50, 37, 38, 41, 24, 54, 22,  0, 16, 16, 16, 17, 37, 38, 38, 14,\n",
       "       22,  7, 37, 53,  9, 68,  9, 24, 56, 22, 37, 54, 24, 22, 37, 68, 68,\n",
       "       22, 37, 68,  9, 40, 24, 15, 22, 24, 10, 24, 54, 14, 22, 62, 71, 50,\n",
       "       37, 38, 38, 14, 22,  7, 37, 53,  9, 68, 14, 22,  9, 56, 22, 62, 71,\n",
       "       50, 37, 38, 38, 14, 22,  9, 71, 22,  9, 41, 56, 22, 67,  2, 71, 16,\n",
       "        2, 37, 14, 36, 16, 16, 31, 10, 24, 54, 14, 41, 50,  9, 71])"
      ]
     },
     "execution_count": 5,
     "metadata": {},
     "output_type": "execute_result"
    }
   ],
   "source": [
    "encoded[:100]"
   ]
  },
  {
   "cell_type": "markdown",
   "metadata": {},
   "source": [
    "## Pre-processing the data\n",
    "\n",
    "As you can see in our char-RNN image above, our LSTM expects an input that is **one-hot encoded** meaning that each character is converted into an integer (via our created dictionary) and *then* converted into a column vector where only it's corresponding integer index will have the value of 1 and the rest of the vector will be filled with 0's. Since we're one-hot encoding the data, let's make a function to do that!\n"
   ]
  },
  {
   "cell_type": "code",
   "execution_count": 6,
   "metadata": {},
   "outputs": [],
   "source": [
    "def one_hot_encode(arr, n_labels):\n",
    "    \n",
    "    # Initialize the the encoded array\n",
    "    one_hot = np.zeros((np.multiply(*arr.shape), n_labels), dtype=np.float32)\n",
    "    \n",
    "    # Fill the appropriate elements with ones\n",
    "    one_hot[np.arange(one_hot.shape[0]), arr.flatten()] = 1.\n",
    "    \n",
    "    # Finally reshape it to get back to the original array\n",
    "    one_hot = one_hot.reshape((*arr.shape, n_labels))\n",
    "    \n",
    "    return one_hot"
   ]
  },
  {
   "cell_type": "code",
   "execution_count": 7,
   "metadata": {},
   "outputs": [
    {
     "name": "stdout",
     "output_type": "stream",
     "text": [
      "[[[ 0.  0.  0.  1.  0.  0.  0.  0.]\n",
      "  [ 0.  0.  0.  0.  0.  1.  0.  0.]\n",
      "  [ 0.  1.  0.  0.  0.  0.  0.  0.]]]\n"
     ]
    }
   ],
   "source": [
    "# check that the function works as expected\n",
    "test_seq = np.array([[3, 5, 1]])\n",
    "one_hot = one_hot_encode(test_seq, 8)\n",
    "\n",
    "print(one_hot)"
   ]
  },
  {
   "cell_type": "markdown",
   "metadata": {},
   "source": [
    "## Making training mini-batches\n",
    "\n",
    "\n",
    "To train on this data, we also want to create mini-batches for training. Remember that we want our batches to be multiple sequences of some desired number of sequence steps. Considering a simple example, our batches would look like this:\n",
    "\n",
    "<img src=\"assets/sequence_batching@1x.png\" width=500px>\n",
    "\n",
    "\n",
    "<br>\n",
    "\n",
    "In this example, we'll take the encoded characters (passed in as the `arr` parameter) and split them into multiple sequences, given by `batch_size`. Each of our sequences will be `seq_length` long.\n",
    "\n",
    "### Creating Batches\n",
    "\n",
    "**1. The first thing we need to do is discard some of the text so we only have completely full mini-batches. **\n",
    "\n",
    "Each batch contains $N \\times M$ characters, where $N$ is the batch size (the number of sequences in a batch) and $M$ is the seq_length or number of time steps in a sequence. Then, to get the total number of batches, $K$, that we can make from the array `arr`, you divide the length of `arr` by the number of characters per batch. Once you know the number of batches, you can get the total number of characters to keep from `arr`, $N * M * K$.\n",
    "\n",
    "**2. After that, we need to split `arr` into $N$ batches. ** \n",
    "\n",
    "You can do this using `arr.reshape(size)` where `size` is a tuple containing the dimensions sizes of the reshaped array. We know we want $N$ sequences in a batch, so let's make that the size of the first dimension. For the second dimension, you can use `-1` as a placeholder in the size, it'll fill up the array with the appropriate data for you. After this, you should have an array that is $N \\times (M * K)$.\n",
    "\n",
    "**3. Now that we have this array, we can iterate through it to get our mini-batches. **\n",
    "\n",
    "The idea is each batch is a $N \\times M$ window on the $N \\times (M * K)$ array. For each subsequent batch, the window moves over by `seq_length`. We also want to create both the input and target arrays. Remember that the targets are just the inputs shifted over by one character. The way I like to do this window is use `range` to take steps of size `n_steps` from $0$ to `arr.shape[1]`, the total number of tokens in each sequence. That way, the integers you get from `range` always point to the start of a batch, and each window is `seq_length` wide.\n",
    "\n",
    "> **TODO:** Write the code for creating batches in the function below. The exercises in this notebook _will not be easy_. I've provided a notebook with solutions alongside this notebook. If you get stuck, checkout the solutions. The most important thing is that you don't copy and paste the code into here, **type out the solution code yourself.**"
   ]
  },
  {
   "cell_type": "code",
   "execution_count": 8,
   "metadata": {},
   "outputs": [],
   "source": [
    "def get_batches(arr, batch_size, seq_length):\n",
    "    '''Create a generator that returns batches of size\n",
    "       batch_size x seq_length from arr.\n",
    "       \n",
    "       Arguments\n",
    "       ---------\n",
    "       arr: Array you want to make batches from\n",
    "       batch_size: Batch size, the number of sequences per batch\n",
    "       seq_length: Number of encoded chars in a sequence\n",
    "    '''\n",
    "    batch_size_total = batch_size * seq_length\n",
    "    ## TODO: Get the number of batches we can make\n",
    "    n_batches = len(arr)//batch_size_total\n",
    "    \n",
    "    ## TODO: Keep only enough characters to make full batches\n",
    "    arr = arr[:n_batches * batch_size_total]\n",
    "    \n",
    "    ## TODO: Reshape into batch_size rows\n",
    "    arr = arr.reshape((batch_size, -1))\n",
    "    \n",
    "    ## TODO: Iterate over the batches using a window of size seq_length\n",
    "    for n in range(0, arr.shape[1], seq_length):\n",
    "        # The features\n",
    "        x = arr[:, n:n+seq_length]\n",
    "        # The targets, shifted by one\n",
    "        y = np.zeros_like(x)\n",
    "        try:\n",
    "            y[:, :-1], y[:, -1] = x[:, 1:], arr[:, n+seq_length]\n",
    "        except IndexError:\n",
    "            y[:, :-1], y[:, -1] = x[:, 1:], arr[:, 0]\n",
    "        yield x, y"
   ]
  },
  {
   "cell_type": "markdown",
   "metadata": {},
   "source": [
    "### Test Your Implementation\n",
    "\n",
    "Now I'll make some data sets and we can check out what's going on as we batch data. Here, as an example, I'm going to use a batch size of 8 and 50 sequence steps."
   ]
  },
  {
   "cell_type": "code",
   "execution_count": 9,
   "metadata": {},
   "outputs": [],
   "source": [
    "batches = get_batches(encoded, 8, 50)\n",
    "x, y = next(batches)"
   ]
  },
  {
   "cell_type": "code",
   "execution_count": 10,
   "metadata": {},
   "outputs": [
    {
     "name": "stdout",
     "output_type": "stream",
     "text": [
      "x\n",
      " [[58 50 37 38 41 24 54 22  0 16]\n",
      " [56 67 71 22 41 50 37 41 22 37]\n",
      " [24 71  1 22 67 54 22 37 22  7]\n",
      " [56 22 41 50 24 22 80 50  9 24]\n",
      " [22 56 37  2 22 50 24 54 22 41]\n",
      " [80 62 56 56  9 67 71 22 37 71]\n",
      " [22 55 71 71 37 22 50 37  1 22]\n",
      " [45 19 68 67 71 56 40 14 36 22]]\n",
      "\n",
      "y\n",
      " [[50 37 38 41 24 54 22  0 16 16]\n",
      " [67 71 22 41 50 37 41 22 37 41]\n",
      " [71  1 22 67 54 22 37 22  7 67]\n",
      " [22 41 50 24 22 80 50  9 24  7]\n",
      " [56 37  2 22 50 24 54 22 41 24]\n",
      " [62 56 56  9 67 71 22 37 71  1]\n",
      " [55 71 71 37 22 50 37  1 22 56]\n",
      " [19 68 67 71 56 40 14 36 22 57]]\n"
     ]
    }
   ],
   "source": [
    "# printing out the first 10 items in a sequence\n",
    "print('x\\n', x[:10, :10])\n",
    "print('\\ny\\n', y[:10, :10])"
   ]
  },
  {
   "cell_type": "markdown",
   "metadata": {},
   "source": [
    "If you implemented `get_batches` correctly, the above output should look something like \n",
    "```\n",
    "x\n",
    " [[25  8 60 11 45 27 28 73  1  2]\n",
    " [17  7 20 73 45  8 60 45 73 60]\n",
    " [27 20 80 73  7 28 73 60 73 65]\n",
    " [17 73 45  8 27 73 66  8 46 27]\n",
    " [73 17 60 12 73  8 27 28 73 45]\n",
    " [66 64 17 17 46  7 20 73 60 20]\n",
    " [73 76 20 20 60 73  8 60 80 73]\n",
    " [47 35 43  7 20 17 24 50 37 73]]\n",
    "\n",
    "y\n",
    " [[ 8 60 11 45 27 28 73  1  2  2]\n",
    " [ 7 20 73 45  8 60 45 73 60 45]\n",
    " [20 80 73  7 28 73 60 73 65  7]\n",
    " [73 45  8 27 73 66  8 46 27 65]\n",
    " [17 60 12 73  8 27 28 73 45 27]\n",
    " [64 17 17 46  7 20 73 60 20 80]\n",
    " [76 20 20 60 73  8 60 80 73 17]\n",
    " [35 43  7 20 17 24 50 37 73 36]]\n",
    " ```\n",
    " although the exact numbers may be different. Check to make sure the data is shifted over one step for `y`."
   ]
  },
  {
   "cell_type": "markdown",
   "metadata": {},
   "source": [
    "---\n",
    "## Defining the network with PyTorch\n",
    "\n",
    "Below is where you'll define the network.\n",
    "\n",
    "<img src=\"assets/charRNN.png\" width=500px>\n",
    "\n",
    "Next, you'll use PyTorch to define the architecture of the network. We start by defining the layers and operations we want. Then, define a method for the forward pass. You've also been given a method for predicting characters."
   ]
  },
  {
   "cell_type": "markdown",
   "metadata": {},
   "source": [
    "### Model Structure\n",
    "\n",
    "In `__init__` the suggested structure is as follows:\n",
    "* Create and store the necessary dictionaries (this has been done for you)\n",
    "* Define an LSTM layer that takes as params: an input size (the number of characters), a hidden layer size `n_hidden`, a number of layers `n_layers`, a dropout probability `drop_prob`, and a batch_first boolean (True, since we are batching)\n",
    "* Define a dropout layer with `dropout_prob`\n",
    "* Define a fully-connected layer with params: input size `n_hidden` and output size (the number of characters)\n",
    "* Finally, initialize the weights (again, this has been given)\n",
    "\n",
    "Note that some parameters have been named and given in the `__init__` function, and we use them and store them by doing something like `self.drop_prob = drop_prob`."
   ]
  },
  {
   "cell_type": "markdown",
   "metadata": {},
   "source": [
    "---\n",
    "### LSTM Inputs/Outputs\n",
    "\n",
    "You can create a basic [LSTM layer](https://pytorch.org/docs/stable/nn.html#lstm) as follows\n",
    "\n",
    "```python\n",
    "self.lstm = nn.LSTM(input_size, n_hidden, n_layers, \n",
    "                            dropout=drop_prob, batch_first=True)\n",
    "```\n",
    "\n",
    "where `input_size` is the number of characters this cell expects to see as sequential input, and `n_hidden` is the number of units in the hidden layers in the cell. And we can add dropout by adding a dropout parameter with a specified probability; this will automatically add dropout to the inputs or outputs. Finally, in the `forward` function, we can stack up the LSTM cells into layers using `.view`. With this, you pass in a list of cells and it will send the output of one cell into the next cell.\n",
    "\n",
    "We also need to create an initial hidden state of all zeros. This is done like so\n",
    "\n",
    "```python\n",
    "self.init_hidden()\n",
    "```"
   ]
  },
  {
   "cell_type": "code",
   "execution_count": 11,
   "metadata": {},
   "outputs": [
    {
     "name": "stdout",
     "output_type": "stream",
     "text": [
      "Training on GPU!\n"
     ]
    }
   ],
   "source": [
    "# check if GPU is available\n",
    "train_on_gpu = torch.cuda.is_available()\n",
    "if(train_on_gpu):\n",
    "    print('Training on GPU!')\n",
    "else: \n",
    "    print('No GPU available, training on CPU; consider making n_epochs very small.')"
   ]
  },
  {
   "cell_type": "code",
   "execution_count": 12,
   "metadata": {},
   "outputs": [],
   "source": [
    "class CharRNN(nn.Module):\n",
    "    \n",
    "    def __init__(self, tokens, n_hidden=256, n_layers=2,\n",
    "                               drop_prob=0.5, lr=0.001):\n",
    "        super().__init__()\n",
    "        self.drop_prob = drop_prob\n",
    "        self.n_layers = n_layers\n",
    "        self.n_hidden = n_hidden\n",
    "        self.lr = lr\n",
    "        \n",
    "        # creating character dictionaries\n",
    "        self.chars = tokens\n",
    "        self.int2char = dict(enumerate(self.chars))\n",
    "        self.char2int = {ch: ii for ii, ch in self.int2char.items()}\n",
    "        \n",
    "        ## TODO: define the layers of the model\n",
    "        ## TODO: define the LSTM\n",
    "        self.lstm = nn.LSTM(len(self.chars), n_hidden, n_layers, \n",
    "                            dropout=drop_prob, batch_first=True)\n",
    "        \n",
    "        ## TODO: define a dropout layer\n",
    "        self.dropout = nn.Dropout(drop_prob)\n",
    "        \n",
    "        ## TODO: define the final, fully-connected output layer\n",
    "        self.fc = nn.Linear(n_hidden, len(self.chars))\n",
    "      \n",
    "    \n",
    "    def forward(self, x, hidden):\n",
    "        ''' Forward pass through the network. \n",
    "            These inputs are x, and the hidden/cell state `hidden`. '''\n",
    "                \n",
    "        ## TODO: Get the outputs and the new hidden state from the lstm\n",
    "        r_output, hidden = self.lstm(x, hidden)\n",
    "        \n",
    "        ## TODO: pass through a dropout layer\n",
    "        out = self.dropout(r_output)\n",
    "        \n",
    "        # Stack up LSTM outputs using view\n",
    "        # you may need to use contiguous to reshape the output\n",
    "        out = out.contiguous().view(-1, self.n_hidden)\n",
    "        \n",
    "        ## TODO: put x through the fully-connected layer\n",
    "        out = self.fc(out)\n",
    "        \n",
    "        # return the final output and the hidden state\n",
    "        return out, hidden\n",
    "    \n",
    "    \n",
    "    def init_hidden(self, batch_size):\n",
    "        ''' Initializes hidden state '''\n",
    "        # Create two new tensors with sizes n_layers x batch_size x n_hidden,\n",
    "        # initialized to zero, for hidden state and cell state of LSTM\n",
    "        weight = next(self.parameters()).data\n",
    "        \n",
    "        if (train_on_gpu):\n",
    "            hidden = (weight.new(self.n_layers, batch_size, self.n_hidden).zero_().cuda(),\n",
    "                  weight.new(self.n_layers, batch_size, self.n_hidden).zero_().cuda())\n",
    "        else:\n",
    "            hidden = (weight.new(self.n_layers, batch_size, self.n_hidden).zero_(),\n",
    "                      weight.new(self.n_layers, batch_size, self.n_hidden).zero_())\n",
    "        \n",
    "        return hidden\n",
    "        "
   ]
  },
  {
   "cell_type": "markdown",
   "metadata": {},
   "source": [
    "## Time to train\n",
    "\n",
    "The train function gives us the ability to set the number of epochs, the learning rate, and other parameters.\n",
    "\n",
    "Below we're using an Adam optimizer and cross entropy loss since we are looking at character class scores as output. We calculate the loss and perform backpropagation, as usual!\n",
    "\n",
    "A couple of details about training: \n",
    ">* Within the batch loop, we detach the hidden state from its history; this time setting it equal to a new *tuple* variable because an LSTM has a hidden state that is a tuple of the hidden and cell states.\n",
    "* We use [`clip_grad_norm_`](https://pytorch.org/docs/stable/_modules/torch/nn/utils/clip_grad.html) to help prevent exploding gradients."
   ]
  },
  {
   "cell_type": "code",
   "execution_count": 13,
   "metadata": {},
   "outputs": [],
   "source": [
    "def train(net, data, epochs=10, batch_size=10, seq_length=50, lr=0.001, clip=5, val_frac=0.1, print_every=10):\n",
    "    ''' Training a network \n",
    "    \n",
    "        Arguments\n",
    "        ---------\n",
    "        \n",
    "        net: CharRNN network\n",
    "        data: text data to train the network\n",
    "        epochs: Number of epochs to train\n",
    "        batch_size: Number of mini-sequences per mini-batch, aka batch size\n",
    "        seq_length: Number of character steps per mini-batch\n",
    "        lr: learning rate\n",
    "        clip: gradient clipping\n",
    "        val_frac: Fraction of data to hold out for validation\n",
    "        print_every: Number of steps for printing training and validation loss\n",
    "    \n",
    "    '''\n",
    "    net.train()\n",
    "    \n",
    "    opt = torch.optim.Adam(net.parameters(), lr=lr)\n",
    "    criterion = nn.CrossEntropyLoss()\n",
    "    \n",
    "    # create training and validation data\n",
    "    val_idx = int(len(data)*(1-val_frac))\n",
    "    data, val_data = data[:val_idx], data[val_idx:]\n",
    "    \n",
    "    if(train_on_gpu):\n",
    "        net.cuda()\n",
    "    \n",
    "    counter = 0\n",
    "    n_chars = len(net.chars)\n",
    "    for e in range(epochs):\n",
    "        # initialize hidden state\n",
    "        h = net.init_hidden(batch_size)\n",
    "        \n",
    "        for x, y in get_batches(data, batch_size, seq_length):\n",
    "            counter += 1\n",
    "            \n",
    "            # One-hot encode our data and make them Torch tensors\n",
    "            x = one_hot_encode(x, n_chars)\n",
    "            inputs, targets = torch.from_numpy(x), torch.from_numpy(y)\n",
    "            \n",
    "            if(train_on_gpu):\n",
    "                inputs, targets = inputs.cuda(), targets.cuda()\n",
    "\n",
    "            # Creating new variables for the hidden state, otherwise\n",
    "            # we'd backprop through the entire training history\n",
    "            h = tuple([each.data for each in h])\n",
    "\n",
    "            # zero accumulated gradients\n",
    "            net.zero_grad()\n",
    "            \n",
    "            # get the output from the model\n",
    "            output, h = net(inputs, h)\n",
    "            \n",
    "            # calculate the loss and perform backprop\n",
    "            loss = criterion(output, targets.view(batch_size*seq_length))\n",
    "            loss.backward()\n",
    "            # `clip_grad_norm` helps prevent the exploding gradient problem in RNNs / LSTMs.\n",
    "            nn.utils.clip_grad_norm_(net.parameters(), clip)\n",
    "            opt.step()\n",
    "            \n",
    "            # loss stats\n",
    "            if counter % print_every == 0:\n",
    "                # Get validation loss\n",
    "                val_h = net.init_hidden(batch_size)\n",
    "                val_losses = []\n",
    "                net.eval()\n",
    "                for x, y in get_batches(val_data, batch_size, seq_length):\n",
    "                    # One-hot encode our data and make them Torch tensors\n",
    "                    x = one_hot_encode(x, n_chars)\n",
    "                    x, y = torch.from_numpy(x), torch.from_numpy(y)\n",
    "                    \n",
    "                    # Creating new variables for the hidden state, otherwise\n",
    "                    # we'd backprop through the entire training history\n",
    "                    val_h = tuple([each.data for each in val_h])\n",
    "                    \n",
    "                    inputs, targets = x, y\n",
    "                    if(train_on_gpu):\n",
    "                        inputs, targets = inputs.cuda(), targets.cuda()\n",
    "\n",
    "                    output, val_h = net(inputs, val_h)\n",
    "                    val_loss = criterion(output, targets.view(batch_size*seq_length))\n",
    "                \n",
    "                    val_losses.append(val_loss.item())\n",
    "                \n",
    "                net.train() # reset to train mode after iterationg through validation data\n",
    "                \n",
    "                print(\"Epoch: {}/{}...\".format(e+1, epochs),\n",
    "                      \"Step: {}...\".format(counter),\n",
    "                      \"Loss: {:.4f}...\".format(loss.item()),\n",
    "                      \"Val Loss: {:.4f}\".format(np.mean(val_losses)))"
   ]
  },
  {
   "cell_type": "markdown",
   "metadata": {},
   "source": [
    "## Instantiating the model\n",
    "\n",
    "Now we can actually train the network. First we'll create the network itself, with some given hyperparameters. Then, define the mini-batches sizes, and start training!"
   ]
  },
  {
   "cell_type": "code",
   "execution_count": 14,
   "metadata": {},
   "outputs": [
    {
     "name": "stdout",
     "output_type": "stream",
     "text": [
      "CharRNN(\n",
      "  (lstm): LSTM(83, 512, num_layers=2, batch_first=True, dropout=0.5)\n",
      "  (dropout): Dropout(p=0.5)\n",
      "  (fc): Linear(in_features=512, out_features=83, bias=True)\n",
      ")\n"
     ]
    }
   ],
   "source": [
    "## TODO: set you model hyperparameters\n",
    "# define and print the net\n",
    "n_hidden=512\n",
    "n_layers=2\n",
    "\n",
    "net = CharRNN(chars, n_hidden, n_layers)\n",
    "print(net)"
   ]
  },
  {
   "cell_type": "markdown",
   "metadata": {},
   "source": [
    "### Set your training hyperparameters!"
   ]
  },
  {
   "cell_type": "code",
   "execution_count": 15,
   "metadata": {
    "scrolled": true
   },
   "outputs": [
    {
     "name": "stdout",
     "output_type": "stream",
     "text": [
      "Epoch: 1/20... Step: 10... Loss: 3.2586... Val Loss: 3.2128\n",
      "Epoch: 1/20... Step: 20... Loss: 3.1498... Val Loss: 3.1386\n",
      "Epoch: 1/20... Step: 30... Loss: 3.1408... Val Loss: 3.1254\n",
      "Epoch: 1/20... Step: 40... Loss: 3.1112... Val Loss: 3.1188\n",
      "Epoch: 1/20... Step: 50... Loss: 3.1389... Val Loss: 3.1164\n",
      "Epoch: 1/20... Step: 60... Loss: 3.1161... Val Loss: 3.1127\n",
      "Epoch: 1/20... Step: 70... Loss: 3.0997... Val Loss: 3.1074\n",
      "Epoch: 1/20... Step: 80... Loss: 3.1088... Val Loss: 3.0986\n",
      "Epoch: 1/20... Step: 90... Loss: 3.0948... Val Loss: 3.0786\n",
      "Epoch: 1/20... Step: 100... Loss: 3.0386... Val Loss: 3.0187\n",
      "Epoch: 1/20... Step: 110... Loss: 2.9548... Val Loss: 2.9307\n",
      "Epoch: 1/20... Step: 120... Loss: 2.8210... Val Loss: 2.8181\n",
      "Epoch: 1/20... Step: 130... Loss: 2.7547... Val Loss: 2.7172\n",
      "Epoch: 2/20... Step: 140... Loss: 2.6514... Val Loss: 2.6039\n",
      "Epoch: 2/20... Step: 150... Loss: 2.5756... Val Loss: 2.5296\n",
      "Epoch: 2/20... Step: 160... Loss: 2.5179... Val Loss: 2.4782\n",
      "Epoch: 2/20... Step: 170... Loss: 2.4492... Val Loss: 2.4404\n",
      "Epoch: 2/20... Step: 180... Loss: 2.4258... Val Loss: 2.4065\n",
      "Epoch: 2/20... Step: 190... Loss: 2.3799... Val Loss: 2.3839\n",
      "Epoch: 2/20... Step: 200... Loss: 2.3647... Val Loss: 2.3471\n",
      "Epoch: 2/20... Step: 210... Loss: 2.3300... Val Loss: 2.3143\n",
      "Epoch: 2/20... Step: 220... Loss: 2.3030... Val Loss: 2.2907\n",
      "Epoch: 2/20... Step: 230... Loss: 2.2837... Val Loss: 2.2619\n",
      "Epoch: 2/20... Step: 240... Loss: 2.2537... Val Loss: 2.2271\n",
      "Epoch: 2/20... Step: 250... Loss: 2.1887... Val Loss: 2.1995\n",
      "Epoch: 2/20... Step: 260... Loss: 2.1781... Val Loss: 2.1715\n",
      "Epoch: 2/20... Step: 270... Loss: 2.1709... Val Loss: 2.1490\n",
      "Epoch: 3/20... Step: 280... Loss: 2.1665... Val Loss: 2.1234\n",
      "Epoch: 3/20... Step: 290... Loss: 2.1404... Val Loss: 2.0994\n",
      "Epoch: 3/20... Step: 300... Loss: 2.1119... Val Loss: 2.0852\n",
      "Epoch: 3/20... Step: 310... Loss: 2.0901... Val Loss: 2.0577\n",
      "Epoch: 3/20... Step: 320... Loss: 2.0579... Val Loss: 2.0407\n",
      "Epoch: 3/20... Step: 330... Loss: 2.0288... Val Loss: 2.0284\n",
      "Epoch: 3/20... Step: 340... Loss: 2.0479... Val Loss: 2.0026\n",
      "Epoch: 3/20... Step: 350... Loss: 2.0151... Val Loss: 1.9904\n",
      "Epoch: 3/20... Step: 360... Loss: 1.9584... Val Loss: 1.9709\n",
      "Epoch: 3/20... Step: 370... Loss: 1.9851... Val Loss: 1.9533\n",
      "Epoch: 3/20... Step: 380... Loss: 1.9561... Val Loss: 1.9393\n",
      "Epoch: 3/20... Step: 390... Loss: 1.9385... Val Loss: 1.9242\n",
      "Epoch: 3/20... Step: 400... Loss: 1.9076... Val Loss: 1.9062\n",
      "Epoch: 3/20... Step: 410... Loss: 1.9266... Val Loss: 1.8936\n",
      "Epoch: 4/20... Step: 420... Loss: 1.9086... Val Loss: 1.8814\n",
      "Epoch: 4/20... Step: 430... Loss: 1.8968... Val Loss: 1.8668\n",
      "Epoch: 4/20... Step: 440... Loss: 1.8821... Val Loss: 1.8541\n",
      "Epoch: 4/20... Step: 450... Loss: 1.8273... Val Loss: 1.8404\n",
      "Epoch: 4/20... Step: 460... Loss: 1.8148... Val Loss: 1.8322\n",
      "Epoch: 4/20... Step: 470... Loss: 1.8467... Val Loss: 1.8165\n",
      "Epoch: 4/20... Step: 480... Loss: 1.8238... Val Loss: 1.8083\n",
      "Epoch: 4/20... Step: 490... Loss: 1.8341... Val Loss: 1.7946\n",
      "Epoch: 4/20... Step: 500... Loss: 1.8225... Val Loss: 1.7877\n",
      "Epoch: 4/20... Step: 510... Loss: 1.7967... Val Loss: 1.7753\n",
      "Epoch: 4/20... Step: 520... Loss: 1.8161... Val Loss: 1.7688\n",
      "Epoch: 4/20... Step: 530... Loss: 1.7759... Val Loss: 1.7598\n",
      "Epoch: 4/20... Step: 540... Loss: 1.7353... Val Loss: 1.7465\n",
      "Epoch: 4/20... Step: 550... Loss: 1.7852... Val Loss: 1.7380\n",
      "Epoch: 5/20... Step: 560... Loss: 1.7561... Val Loss: 1.7289\n",
      "Epoch: 5/20... Step: 570... Loss: 1.7402... Val Loss: 1.7214\n",
      "Epoch: 5/20... Step: 580... Loss: 1.7174... Val Loss: 1.7101\n",
      "Epoch: 5/20... Step: 590... Loss: 1.7201... Val Loss: 1.7004\n",
      "Epoch: 5/20... Step: 600... Loss: 1.7004... Val Loss: 1.6972\n",
      "Epoch: 5/20... Step: 610... Loss: 1.6868... Val Loss: 1.6889\n",
      "Epoch: 5/20... Step: 620... Loss: 1.6899... Val Loss: 1.6865\n",
      "Epoch: 5/20... Step: 630... Loss: 1.7029... Val Loss: 1.6789\n",
      "Epoch: 5/20... Step: 640... Loss: 1.6825... Val Loss: 1.6724\n",
      "Epoch: 5/20... Step: 650... Loss: 1.6699... Val Loss: 1.6648\n",
      "Epoch: 5/20... Step: 660... Loss: 1.6470... Val Loss: 1.6632\n",
      "Epoch: 5/20... Step: 670... Loss: 1.6698... Val Loss: 1.6456\n",
      "Epoch: 5/20... Step: 680... Loss: 1.6634... Val Loss: 1.6433\n",
      "Epoch: 5/20... Step: 690... Loss: 1.6424... Val Loss: 1.6395\n",
      "Epoch: 6/20... Step: 700... Loss: 1.6537... Val Loss: 1.6277\n",
      "Epoch: 6/20... Step: 710... Loss: 1.6348... Val Loss: 1.6255\n",
      "Epoch: 6/20... Step: 720... Loss: 1.6235... Val Loss: 1.6166\n",
      "Epoch: 6/20... Step: 730... Loss: 1.6353... Val Loss: 1.6101\n",
      "Epoch: 6/20... Step: 740... Loss: 1.6041... Val Loss: 1.6061\n",
      "Epoch: 6/20... Step: 750... Loss: 1.5832... Val Loss: 1.6028\n",
      "Epoch: 6/20... Step: 760... Loss: 1.6260... Val Loss: 1.5956\n",
      "Epoch: 6/20... Step: 770... Loss: 1.6059... Val Loss: 1.5939\n",
      "Epoch: 6/20... Step: 780... Loss: 1.5879... Val Loss: 1.5856\n",
      "Epoch: 6/20... Step: 790... Loss: 1.5749... Val Loss: 1.5851\n",
      "Epoch: 6/20... Step: 800... Loss: 1.5954... Val Loss: 1.5768\n",
      "Epoch: 6/20... Step: 810... Loss: 1.5835... Val Loss: 1.5748\n",
      "Epoch: 6/20... Step: 820... Loss: 1.5448... Val Loss: 1.5658\n",
      "Epoch: 6/20... Step: 830... Loss: 1.5878... Val Loss: 1.5633\n",
      "Epoch: 7/20... Step: 840... Loss: 1.5440... Val Loss: 1.5607\n",
      "Epoch: 7/20... Step: 850... Loss: 1.5626... Val Loss: 1.5513\n",
      "Epoch: 7/20... Step: 860... Loss: 1.5473... Val Loss: 1.5491\n",
      "Epoch: 7/20... Step: 870... Loss: 1.5481... Val Loss: 1.5475\n",
      "Epoch: 7/20... Step: 880... Loss: 1.5412... Val Loss: 1.5432\n",
      "Epoch: 7/20... Step: 890... Loss: 1.5509... Val Loss: 1.5387\n",
      "Epoch: 7/20... Step: 900... Loss: 1.5318... Val Loss: 1.5368\n",
      "Epoch: 7/20... Step: 910... Loss: 1.5055... Val Loss: 1.5343\n",
      "Epoch: 7/20... Step: 920... Loss: 1.5265... Val Loss: 1.5295\n",
      "Epoch: 7/20... Step: 930... Loss: 1.5181... Val Loss: 1.5239\n",
      "Epoch: 7/20... Step: 940... Loss: 1.5191... Val Loss: 1.5192\n",
      "Epoch: 7/20... Step: 950... Loss: 1.5236... Val Loss: 1.5165\n",
      "Epoch: 7/20... Step: 960... Loss: 1.5253... Val Loss: 1.5136\n",
      "Epoch: 7/20... Step: 970... Loss: 1.5331... Val Loss: 1.5139\n",
      "Epoch: 8/20... Step: 980... Loss: 1.5186... Val Loss: 1.5128\n",
      "Epoch: 8/20... Step: 990... Loss: 1.5084... Val Loss: 1.5031\n",
      "Epoch: 8/20... Step: 1000... Loss: 1.4904... Val Loss: 1.4963\n",
      "Epoch: 8/20... Step: 1010... Loss: 1.5264... Val Loss: 1.4956\n",
      "Epoch: 8/20... Step: 1020... Loss: 1.4994... Val Loss: 1.4922\n",
      "Epoch: 8/20... Step: 1030... Loss: 1.4898... Val Loss: 1.4902\n",
      "Epoch: 8/20... Step: 1040... Loss: 1.4975... Val Loss: 1.4897\n",
      "Epoch: 8/20... Step: 1050... Loss: 1.4720... Val Loss: 1.4855\n",
      "Epoch: 8/20... Step: 1060... Loss: 1.4785... Val Loss: 1.4856\n",
      "Epoch: 8/20... Step: 1070... Loss: 1.4810... Val Loss: 1.4843\n",
      "Epoch: 8/20... Step: 1080... Loss: 1.4795... Val Loss: 1.4758\n",
      "Epoch: 8/20... Step: 1090... Loss: 1.4604... Val Loss: 1.4730\n",
      "Epoch: 8/20... Step: 1100... Loss: 1.4560... Val Loss: 1.4669\n",
      "Epoch: 8/20... Step: 1110... Loss: 1.4729... Val Loss: 1.4653\n",
      "Epoch: 9/20... Step: 1120... Loss: 1.4859... Val Loss: 1.4655\n",
      "Epoch: 9/20... Step: 1130... Loss: 1.4703... Val Loss: 1.4618\n",
      "Epoch: 9/20... Step: 1140... Loss: 1.4731... Val Loss: 1.4555\n",
      "Epoch: 9/20... Step: 1150... Loss: 1.4761... Val Loss: 1.4593\n",
      "Epoch: 9/20... Step: 1160... Loss: 1.4357... Val Loss: 1.4538\n",
      "Epoch: 9/20... Step: 1170... Loss: 1.4498... Val Loss: 1.4515\n",
      "Epoch: 9/20... Step: 1180... Loss: 1.4350... Val Loss: 1.4517\n",
      "Epoch: 9/20... Step: 1190... Loss: 1.4722... Val Loss: 1.4506\n",
      "Epoch: 9/20... Step: 1200... Loss: 1.4239... Val Loss: 1.4493\n",
      "Epoch: 9/20... Step: 1210... Loss: 1.4343... Val Loss: 1.4461\n",
      "Epoch: 9/20... Step: 1220... Loss: 1.4384... Val Loss: 1.4383\n",
      "Epoch: 9/20... Step: 1230... Loss: 1.4069... Val Loss: 1.4381\n",
      "Epoch: 9/20... Step: 1240... Loss: 1.4205... Val Loss: 1.4338\n",
      "Epoch: 9/20... Step: 1250... Loss: 1.4339... Val Loss: 1.4325\n",
      "Epoch: 10/20... Step: 1260... Loss: 1.4393... Val Loss: 1.4339\n",
      "Epoch: 10/20... Step: 1270... Loss: 1.4291... Val Loss: 1.4299\n",
      "Epoch: 10/20... Step: 1280... Loss: 1.4364... Val Loss: 1.4249\n",
      "Epoch: 10/20... Step: 1290... Loss: 1.4323... Val Loss: 1.4283\n",
      "Epoch: 10/20... Step: 1300... Loss: 1.4154... Val Loss: 1.4221\n",
      "Epoch: 10/20... Step: 1310... Loss: 1.4271... Val Loss: 1.4200\n",
      "Epoch: 10/20... Step: 1320... Loss: 1.3888... Val Loss: 1.4214\n",
      "Epoch: 10/20... Step: 1330... Loss: 1.3986... Val Loss: 1.4204\n",
      "Epoch: 10/20... Step: 1340... Loss: 1.3850... Val Loss: 1.4153\n",
      "Epoch: 10/20... Step: 1350... Loss: 1.3866... Val Loss: 1.4149\n",
      "Epoch: 10/20... Step: 1360... Loss: 1.3917... Val Loss: 1.4160\n",
      "Epoch: 10/20... Step: 1370... Loss: 1.3733... Val Loss: 1.4143\n",
      "Epoch: 10/20... Step: 1380... Loss: 1.4246... Val Loss: 1.4098\n",
      "Epoch: 10/20... Step: 1390... Loss: 1.4255... Val Loss: 1.4078\n",
      "Epoch: 11/20... Step: 1400... Loss: 1.4201... Val Loss: 1.4091\n",
      "Epoch: 11/20... Step: 1410... Loss: 1.4280... Val Loss: 1.4047\n",
      "Epoch: 11/20... Step: 1420... Loss: 1.4225... Val Loss: 1.4007\n",
      "Epoch: 11/20... Step: 1430... Loss: 1.3845... Val Loss: 1.4048\n",
      "Epoch: 11/20... Step: 1440... Loss: 1.4159... Val Loss: 1.3987\n",
      "Epoch: 11/20... Step: 1450... Loss: 1.3542... Val Loss: 1.3984\n",
      "Epoch: 11/20... Step: 1460... Loss: 1.3749... Val Loss: 1.3962\n",
      "Epoch: 11/20... Step: 1470... Loss: 1.3589... Val Loss: 1.3970\n",
      "Epoch: 11/20... Step: 1480... Loss: 1.3862... Val Loss: 1.3893\n",
      "Epoch: 11/20... Step: 1490... Loss: 1.3703... Val Loss: 1.3910\n",
      "Epoch: 11/20... Step: 1500... Loss: 1.3614... Val Loss: 1.3913\n",
      "Epoch: 11/20... Step: 1510... Loss: 1.3526... Val Loss: 1.3895\n",
      "Epoch: 11/20... Step: 1520... Loss: 1.3842... Val Loss: 1.3864\n",
      "Epoch: 12/20... Step: 1530... Loss: 1.4308... Val Loss: 1.3861\n",
      "Epoch: 12/20... Step: 1540... Loss: 1.3832... Val Loss: 1.3871\n",
      "Epoch: 12/20... Step: 1550... Loss: 1.3842... Val Loss: 1.3802\n",
      "Epoch: 12/20... Step: 1560... Loss: 1.3954... Val Loss: 1.3788\n",
      "Epoch: 12/20... Step: 1570... Loss: 1.3445... Val Loss: 1.3847\n",
      "Epoch: 12/20... Step: 1580... Loss: 1.3318... Val Loss: 1.3815\n",
      "Epoch: 12/20... Step: 1590... Loss: 1.3192... Val Loss: 1.3797\n",
      "Epoch: 12/20... Step: 1600... Loss: 1.3499... Val Loss: 1.3788\n",
      "Epoch: 12/20... Step: 1610... Loss: 1.3426... Val Loss: 1.3774\n",
      "Epoch: 12/20... Step: 1620... Loss: 1.3389... Val Loss: 1.3724\n",
      "Epoch: 12/20... Step: 1630... Loss: 1.3623... Val Loss: 1.3732\n",
      "Epoch: 12/20... Step: 1640... Loss: 1.3384... Val Loss: 1.3746\n",
      "Epoch: 12/20... Step: 1650... Loss: 1.3157... Val Loss: 1.3720\n",
      "Epoch: 12/20... Step: 1660... Loss: 1.3684... Val Loss: 1.3673\n",
      "Epoch: 13/20... Step: 1670... Loss: 1.3394... Val Loss: 1.3683\n",
      "Epoch: 13/20... Step: 1680... Loss: 1.3575... Val Loss: 1.3667\n",
      "Epoch: 13/20... Step: 1690... Loss: 1.3271... Val Loss: 1.3666\n",
      "Epoch: 13/20... Step: 1700... Loss: 1.3363... Val Loss: 1.3652\n",
      "Epoch: 13/20... Step: 1710... Loss: 1.3141... Val Loss: 1.3678\n",
      "Epoch: 13/20... Step: 1720... Loss: 1.3201... Val Loss: 1.3666\n",
      "Epoch: 13/20... Step: 1730... Loss: 1.3639... Val Loss: 1.3623\n",
      "Epoch: 13/20... Step: 1740... Loss: 1.3171... Val Loss: 1.3614\n",
      "Epoch: 13/20... Step: 1750... Loss: 1.2902... Val Loss: 1.3613\n",
      "Epoch: 13/20... Step: 1760... Loss: 1.3203... Val Loss: 1.3545\n",
      "Epoch: 13/20... Step: 1770... Loss: 1.3430... Val Loss: 1.3575\n",
      "Epoch: 13/20... Step: 1780... Loss: 1.3201... Val Loss: 1.3604\n",
      "Epoch: 13/20... Step: 1790... Loss: 1.3064... Val Loss: 1.3568\n",
      "Epoch: 13/20... Step: 1800... Loss: 1.3288... Val Loss: 1.3543\n",
      "Epoch: 14/20... Step: 1810... Loss: 1.3309... Val Loss: 1.3584\n",
      "Epoch: 14/20... Step: 1820... Loss: 1.3107... Val Loss: 1.3522\n",
      "Epoch: 14/20... Step: 1830... Loss: 1.3387... Val Loss: 1.3488\n",
      "Epoch: 14/20... Step: 1840... Loss: 1.2847... Val Loss: 1.3510\n",
      "Epoch: 14/20... Step: 1850... Loss: 1.2656... Val Loss: 1.3527\n",
      "Epoch: 14/20... Step: 1860... Loss: 1.3234... Val Loss: 1.3508\n",
      "Epoch: 14/20... Step: 1870... Loss: 1.3306... Val Loss: 1.3479\n",
      "Epoch: 14/20... Step: 1880... Loss: 1.3236... Val Loss: 1.3476\n",
      "Epoch: 14/20... Step: 1890... Loss: 1.3342... Val Loss: 1.3470\n",
      "Epoch: 14/20... Step: 1900... Loss: 1.3109... Val Loss: 1.3435\n",
      "Epoch: 14/20... Step: 1910... Loss: 1.3138... Val Loss: 1.3449\n",
      "Epoch: 14/20... Step: 1920... Loss: 1.3049... Val Loss: 1.3468\n",
      "Epoch: 14/20... Step: 1930... Loss: 1.2766... Val Loss: 1.3437\n",
      "Epoch: 14/20... Step: 1940... Loss: 1.3317... Val Loss: 1.3394\n",
      "Epoch: 15/20... Step: 1950... Loss: 1.2964... Val Loss: 1.3430\n",
      "Epoch: 15/20... Step: 1960... Loss: 1.3150... Val Loss: 1.3363\n",
      "Epoch: 15/20... Step: 1970... Loss: 1.2944... Val Loss: 1.3366\n",
      "Epoch: 15/20... Step: 1980... Loss: 1.2857... Val Loss: 1.3448\n",
      "Epoch: 15/20... Step: 1990... Loss: 1.2836... Val Loss: 1.3394\n",
      "Epoch: 15/20... Step: 2000... Loss: 1.2770... Val Loss: 1.3369\n",
      "Epoch: 15/20... Step: 2010... Loss: 1.2957... Val Loss: 1.3355\n",
      "Epoch: 15/20... Step: 2020... Loss: 1.3124... Val Loss: 1.3383\n",
      "Epoch: 15/20... Step: 2030... Loss: 1.2762... Val Loss: 1.3342\n",
      "Epoch: 15/20... Step: 2040... Loss: 1.2980... Val Loss: 1.3326\n",
      "Epoch: 15/20... Step: 2050... Loss: 1.2789... Val Loss: 1.3348\n",
      "Epoch: 15/20... Step: 2060... Loss: 1.2869... Val Loss: 1.3306\n",
      "Epoch: 15/20... Step: 2070... Loss: 1.2971... Val Loss: 1.3277\n",
      "Epoch: 15/20... Step: 2080... Loss: 1.2859... Val Loss: 1.3315\n",
      "Epoch: 16/20... Step: 2090... Loss: 1.2938... Val Loss: 1.3400\n",
      "Epoch: 16/20... Step: 2100... Loss: 1.2808... Val Loss: 1.3262\n",
      "Epoch: 16/20... Step: 2110... Loss: 1.2690... Val Loss: 1.3246\n",
      "Epoch: 16/20... Step: 2120... Loss: 1.2906... Val Loss: 1.3327\n",
      "Epoch: 16/20... Step: 2130... Loss: 1.2643... Val Loss: 1.3275\n",
      "Epoch: 16/20... Step: 2140... Loss: 1.2726... Val Loss: 1.3270\n",
      "Epoch: 16/20... Step: 2150... Loss: 1.3047... Val Loss: 1.3247\n",
      "Epoch: 16/20... Step: 2160... Loss: 1.2788... Val Loss: 1.3271\n",
      "Epoch: 16/20... Step: 2170... Loss: 1.2796... Val Loss: 1.3252\n",
      "Epoch: 16/20... Step: 2180... Loss: 1.2600... Val Loss: 1.3193\n",
      "Epoch: 16/20... Step: 2190... Loss: 1.2910... Val Loss: 1.3244\n",
      "Epoch: 16/20... Step: 2200... Loss: 1.2595... Val Loss: 1.3243\n",
      "Epoch: 16/20... Step: 2210... Loss: 1.2315... Val Loss: 1.3200\n",
      "Epoch: 16/20... Step: 2220... Loss: 1.2761... Val Loss: 1.3199\n",
      "Epoch: 17/20... Step: 2230... Loss: 1.2601... Val Loss: 1.3229\n",
      "Epoch: 17/20... Step: 2240... Loss: 1.2674... Val Loss: 1.3206\n",
      "Epoch: 17/20... Step: 2250... Loss: 1.2531... Val Loss: 1.3164\n",
      "Epoch: 17/20... Step: 2260... Loss: 1.2644... Val Loss: 1.3224\n",
      "Epoch: 17/20... Step: 2270... Loss: 1.2703... Val Loss: 1.3175\n",
      "Epoch: 17/20... Step: 2280... Loss: 1.2786... Val Loss: 1.3153\n",
      "Epoch: 17/20... Step: 2290... Loss: 1.2730... Val Loss: 1.3152\n",
      "Epoch: 17/20... Step: 2300... Loss: 1.2312... Val Loss: 1.3173\n",
      "Epoch: 17/20... Step: 2310... Loss: 1.2618... Val Loss: 1.3158\n",
      "Epoch: 17/20... Step: 2320... Loss: 1.2573... Val Loss: 1.3123\n",
      "Epoch: 17/20... Step: 2330... Loss: 1.2622... Val Loss: 1.3130\n",
      "Epoch: 17/20... Step: 2340... Loss: 1.2673... Val Loss: 1.3122\n",
      "Epoch: 17/20... Step: 2350... Loss: 1.2716... Val Loss: 1.3128\n",
      "Epoch: 17/20... Step: 2360... Loss: 1.2735... Val Loss: 1.3122\n",
      "Epoch: 18/20... Step: 2370... Loss: 1.2431... Val Loss: 1.3078\n",
      "Epoch: 18/20... Step: 2380... Loss: 1.2479... Val Loss: 1.3090\n",
      "Epoch: 18/20... Step: 2390... Loss: 1.2527... Val Loss: 1.3094\n",
      "Epoch: 18/20... Step: 2400... Loss: 1.2716... Val Loss: 1.3142\n",
      "Epoch: 18/20... Step: 2410... Loss: 1.2714... Val Loss: 1.3060\n",
      "Epoch: 18/20... Step: 2420... Loss: 1.2500... Val Loss: 1.3051\n",
      "Epoch: 18/20... Step: 2430... Loss: 1.2637... Val Loss: 1.3101\n",
      "Epoch: 18/20... Step: 2440... Loss: 1.2411... Val Loss: 1.3106\n",
      "Epoch: 18/20... Step: 2450... Loss: 1.2401... Val Loss: 1.3079\n",
      "Epoch: 18/20... Step: 2460... Loss: 1.2531... Val Loss: 1.3069\n",
      "Epoch: 18/20... Step: 2470... Loss: 1.2480... Val Loss: 1.3068\n",
      "Epoch: 18/20... Step: 2480... Loss: 1.2399... Val Loss: 1.3051\n",
      "Epoch: 18/20... Step: 2490... Loss: 1.2296... Val Loss: 1.3061\n",
      "Epoch: 18/20... Step: 2500... Loss: 1.2414... Val Loss: 1.3062\n",
      "Epoch: 19/20... Step: 2510... Loss: 1.2403... Val Loss: 1.3017\n",
      "Epoch: 19/20... Step: 2520... Loss: 1.2524... Val Loss: 1.3020\n",
      "Epoch: 19/20... Step: 2530... Loss: 1.2613... Val Loss: 1.3025\n",
      "Epoch: 19/20... Step: 2540... Loss: 1.2733... Val Loss: 1.3043\n",
      "Epoch: 19/20... Step: 2550... Loss: 1.2256... Val Loss: 1.3033\n",
      "Epoch: 19/20... Step: 2560... Loss: 1.2408... Val Loss: 1.3004\n",
      "Epoch: 19/20... Step: 2570... Loss: 1.2296... Val Loss: 1.3024\n",
      "Epoch: 19/20... Step: 2580... Loss: 1.2628... Val Loss: 1.3039\n",
      "Epoch: 19/20... Step: 2590... Loss: 1.2272... Val Loss: 1.3046\n",
      "Epoch: 19/20... Step: 2600... Loss: 1.2239... Val Loss: 1.3007\n",
      "Epoch: 19/20... Step: 2610... Loss: 1.2347... Val Loss: 1.3013\n",
      "Epoch: 19/20... Step: 2620... Loss: 1.2160... Val Loss: 1.2991\n",
      "Epoch: 19/20... Step: 2630... Loss: 1.2288... Val Loss: 1.2964\n",
      "Epoch: 19/20... Step: 2640... Loss: 1.2328... Val Loss: 1.2980\n",
      "Epoch: 20/20... Step: 2650... Loss: 1.2392... Val Loss: 1.2963\n",
      "Epoch: 20/20... Step: 2660... Loss: 1.2383... Val Loss: 1.2964\n",
      "Epoch: 20/20... Step: 2670... Loss: 1.2432... Val Loss: 1.2999\n",
      "Epoch: 20/20... Step: 2680... Loss: 1.2411... Val Loss: 1.3007\n",
      "Epoch: 20/20... Step: 2690... Loss: 1.2379... Val Loss: 1.2973\n",
      "Epoch: 20/20... Step: 2700... Loss: 1.2433... Val Loss: 1.2949\n",
      "Epoch: 20/20... Step: 2710... Loss: 1.2161... Val Loss: 1.2963\n",
      "Epoch: 20/20... Step: 2720... Loss: 1.2133... Val Loss: 1.2945\n",
      "Epoch: 20/20... Step: 2730... Loss: 1.2028... Val Loss: 1.2965\n",
      "Epoch: 20/20... Step: 2740... Loss: 1.2071... Val Loss: 1.2949\n",
      "Epoch: 20/20... Step: 2750... Loss: 1.2113... Val Loss: 1.2938\n",
      "Epoch: 20/20... Step: 2760... Loss: 1.2004... Val Loss: 1.2938\n",
      "Epoch: 20/20... Step: 2770... Loss: 1.2454... Val Loss: 1.2925\n",
      "Epoch: 20/20... Step: 2780... Loss: 1.2739... Val Loss: 1.2929\n"
     ]
    }
   ],
   "source": [
    "batch_size = 128\n",
    "seq_length = 100\n",
    "n_epochs = 20 # start smaller if you are just testing initial behavior\n",
    "\n",
    "# train the model\n",
    "train(net, encoded, epochs=n_epochs, batch_size=batch_size, seq_length=seq_length, lr=0.001, print_every=10)"
   ]
  },
  {
   "cell_type": "markdown",
   "metadata": {},
   "source": [
    "## Getting the best model\n",
    "\n",
    "To set your hyperparameters to get the best performance, you'll want to watch the training and validation losses. If your training loss is much lower than the validation loss, you're overfitting. Increase regularization (more dropout) or use a smaller network. If the training and validation losses are close, you're underfitting so you can increase the size of the network."
   ]
  },
  {
   "cell_type": "markdown",
   "metadata": {},
   "source": [
    "## Hyperparameters\n",
    "\n",
    "Here are the hyperparameters for the network.\n",
    "\n",
    "In defining the model:\n",
    "* `n_hidden` - The number of units in the hidden layers.\n",
    "* `n_layers` - Number of hidden LSTM layers to use.\n",
    "\n",
    "We assume that dropout probability and learning rate will be kept at the default, in this example.\n",
    "\n",
    "And in training:\n",
    "* `batch_size` - Number of sequences running through the network in one pass.\n",
    "* `seq_length` - Number of characters in the sequence the network is trained on. Larger is better typically, the network will learn more long range dependencies. But it takes longer to train. 100 is typically a good number here.\n",
    "* `lr` - Learning rate for training\n",
    "\n",
    "Here's some good advice from Andrej Karpathy on training the network. I'm going to copy it in here for your benefit, but also link to [where it originally came from](https://github.com/karpathy/char-rnn#tips-and-tricks).\n",
    "\n",
    "> ## Tips and Tricks\n",
    "\n",
    ">### Monitoring Validation Loss vs. Training Loss\n",
    ">If you're somewhat new to Machine Learning or Neural Networks it can take a bit of expertise to get good models. The most important quantity to keep track of is the difference between your training loss (printed during training) and the validation loss (printed once in a while when the RNN is run on the validation data (by default every 1000 iterations)). In particular:\n",
    "\n",
    "> - If your training loss is much lower than validation loss then this means the network might be **overfitting**. Solutions to this are to decrease your network size, or to increase dropout. For example you could try dropout of 0.5 and so on.\n",
    "> - If your training/validation loss are about equal then your model is **underfitting**. Increase the size of your model (either number of layers or the raw number of neurons per layer)\n",
    "\n",
    "> ### Approximate number of parameters\n",
    "\n",
    "> The two most important parameters that control the model are `n_hidden` and `n_layers`. I would advise that you always use `n_layers` of either 2/3. The `n_hidden` can be adjusted based on how much data you have. The two important quantities to keep track of here are:\n",
    "\n",
    "> - The number of parameters in your model. This is printed when you start training.\n",
    "> - The size of your dataset. 1MB file is approximately 1 million characters.\n",
    "\n",
    ">These two should be about the same order of magnitude. It's a little tricky to tell. Here are some examples:\n",
    "\n",
    "> - I have a 100MB dataset and I'm using the default parameter settings (which currently print 150K parameters). My data size is significantly larger (100 mil >> 0.15 mil), so I expect to heavily underfit. I am thinking I can comfortably afford to make `n_hidden` larger.\n",
    "> - I have a 10MB dataset and running a 10 million parameter model. I'm slightly nervous and I'm carefully monitoring my validation loss. If it's larger than my training loss then I may want to try to increase dropout a bit and see if that helps the validation loss.\n",
    "\n",
    "> ### Best models strategy\n",
    "\n",
    ">The winning strategy to obtaining very good models (if you have the compute time) is to always err on making the network larger (as large as you're willing to wait for it to compute) and then try different dropout values (between 0,1). Whatever model has the best validation performance (the loss, written in the checkpoint filename, low is good) is the one you should use in the end.\n",
    "\n",
    ">It is very common in deep learning to run many different models with many different hyperparameter settings, and in the end take whatever checkpoint gave the best validation performance.\n",
    "\n",
    ">By the way, the size of your training and validation splits are also parameters. Make sure you have a decent amount of data in your validation set or otherwise the validation performance will be noisy and not very informative."
   ]
  },
  {
   "cell_type": "markdown",
   "metadata": {},
   "source": [
    "## Checkpoint\n",
    "\n",
    "After training, we'll save the model so we can load it again later if we need too. Here I'm saving the parameters needed to create the same architecture, the hidden layer hyperparameters and the text characters."
   ]
  },
  {
   "cell_type": "code",
   "execution_count": 16,
   "metadata": {},
   "outputs": [],
   "source": [
    "# change the name, for saving multiple files\n",
    "model_name = 'rnn_20_epoch.net'\n",
    "\n",
    "checkpoint = {'n_hidden': net.n_hidden,\n",
    "              'n_layers': net.n_layers,\n",
    "              'state_dict': net.state_dict(),\n",
    "              'tokens': net.chars}\n",
    "\n",
    "with open(model_name, 'wb') as f:\n",
    "    torch.save(checkpoint, f)"
   ]
  },
  {
   "cell_type": "markdown",
   "metadata": {},
   "source": [
    "---\n",
    "## Making Predictions\n",
    "\n",
    "Now that the model is trained, we'll want to sample from it and make predictions about next characters! To sample, we pass in a character and have the network predict the next character. Then we take that character, pass it back in, and get another predicted character. Just keep doing this and you'll generate a bunch of text!\n",
    "\n",
    "### A note on the `predict`  function\n",
    "\n",
    "The output of our RNN is from a fully-connected layer and it outputs a **distribution of next-character scores**.\n",
    "\n",
    "> To actually get the next character, we apply a softmax function, which gives us a *probability* distribution that we can then sample to predict the next character.\n",
    "\n",
    "### Top K sampling\n",
    "\n",
    "Our predictions come from a categorical probability distribution over all the possible characters. We can make the sample text and make it more reasonable to handle (with less variables) by only considering some $K$ most probable characters. This will prevent the network from giving us completely absurd characters while allowing it to introduce some noise and randomness into the sampled text. Read more about [topk, here](https://pytorch.org/docs/stable/torch.html#torch.topk).\n"
   ]
  },
  {
   "cell_type": "code",
   "execution_count": 17,
   "metadata": {},
   "outputs": [],
   "source": [
    "def predict(net, char, h=None, top_k=None):\n",
    "        ''' Given a character, predict the next character.\n",
    "            Returns the predicted character and the hidden state.\n",
    "        '''\n",
    "        \n",
    "        # tensor inputs\n",
    "        x = np.array([[net.char2int[char]]])\n",
    "        x = one_hot_encode(x, len(net.chars))\n",
    "        inputs = torch.from_numpy(x)\n",
    "        \n",
    "        if(train_on_gpu):\n",
    "            inputs = inputs.cuda()\n",
    "        \n",
    "        # detach hidden state from history\n",
    "        h = tuple([each.data for each in h])\n",
    "        # get the output of the model\n",
    "        out, h = net(inputs, h)\n",
    "\n",
    "        # get the character probabilities\n",
    "        p = F.softmax(out, dim=1).data\n",
    "        if(train_on_gpu):\n",
    "            p = p.cpu() # move to cpu\n",
    "        \n",
    "        # get top characters\n",
    "        if top_k is None:\n",
    "            top_ch = np.arange(len(net.chars))\n",
    "        else:\n",
    "            p, top_ch = p.topk(top_k)\n",
    "            top_ch = top_ch.numpy().squeeze()\n",
    "        \n",
    "        # select the likely next character with some element of randomness\n",
    "        p = p.numpy().squeeze()\n",
    "        char = np.random.choice(top_ch, p=p/p.sum())\n",
    "        \n",
    "        # return the encoded value of the predicted char and the hidden state\n",
    "        return net.int2char[char], h"
   ]
  },
  {
   "cell_type": "markdown",
   "metadata": {},
   "source": [
    "### Priming and generating text \n",
    "\n",
    "Typically you'll want to prime the network so you can build up a hidden state. Otherwise the network will start out generating characters at random. In general the first bunch of characters will be a little rough since it hasn't built up a long history of characters to predict from."
   ]
  },
  {
   "cell_type": "code",
   "execution_count": 18,
   "metadata": {},
   "outputs": [],
   "source": [
    "def sample(net, size, prime='The', top_k=None):\n",
    "        \n",
    "    if(train_on_gpu):\n",
    "        net.cuda()\n",
    "    else:\n",
    "        net.cpu()\n",
    "    \n",
    "    net.eval() # eval mode\n",
    "    \n",
    "    # First off, run through the prime characters\n",
    "    chars = [ch for ch in prime]\n",
    "    h = net.init_hidden(1)\n",
    "    for ch in prime:\n",
    "        char, h = predict(net, ch, h, top_k=top_k)\n",
    "\n",
    "    chars.append(char)\n",
    "    \n",
    "    # Now pass in the previous character and get a new one\n",
    "    for ii in range(size):\n",
    "        char, h = predict(net, chars[-1], h, top_k=top_k)\n",
    "        chars.append(char)\n",
    "\n",
    "    return ''.join(chars)"
   ]
  },
  {
   "cell_type": "code",
   "execution_count": 19,
   "metadata": {},
   "outputs": [
    {
     "name": "stdout",
     "output_type": "stream",
     "text": [
      "Anna without an impossible carriage woming as though it were seen to say\n",
      "simply, and stook about\n",
      "themselves, and the children and her lives, showed, and she found it all\n",
      "subjoct, and\n",
      "still made on a care to answer, and to a single carriage and to the minute at once\n",
      "angrished in the same thing that they were not as and decided or anyone on the same, that is had\n",
      "been, she had better the back to anyway, and stepping off that he could not. He wanted to have there was\n",
      "a general, but it\n",
      "seemed in them, and saw him. And with a classion of to have some delight on the fashionation he could not hin and\n",
      "the childrong was a carriage of the feet as\n",
      "she had saw that he would never bad to start, thinking of his wife and his finger thought she was\n",
      "the months of his sinking hands. Trinking the stards, her head of the first time the same man was convensions, but the same thing had been so\n",
      "commins to him without every moment. He walked the patilitical peasants, was significancial to her about\n",
      "herself what he \n"
     ]
    }
   ],
   "source": [
    "print(sample(net, 1000, prime='Anna', top_k=5))"
   ]
  },
  {
   "cell_type": "markdown",
   "metadata": {},
   "source": [
    "## Loading a checkpoint"
   ]
  },
  {
   "cell_type": "code",
   "execution_count": 20,
   "metadata": {},
   "outputs": [],
   "source": [
    "# Here we have loaded in a model that trained over 20 epochs `rnn_20_epoch.net`\n",
    "with open('rnn_20_epoch.net', 'rb') as f:\n",
    "    checkpoint = torch.load(f)\n",
    "    \n",
    "loaded = CharRNN(checkpoint['tokens'], n_hidden=checkpoint['n_hidden'], n_layers=checkpoint['n_layers'])\n",
    "loaded.load_state_dict(checkpoint['state_dict'])"
   ]
  },
  {
   "cell_type": "code",
   "execution_count": 21,
   "metadata": {},
   "outputs": [
    {
     "name": "stdout",
     "output_type": "stream",
     "text": [
      "And Levin said, and all the\n",
      "servact he would simply take his beft her. Has been musically so much studion or to hear the mud of the same thing\n",
      "that they were some one was not thinking about that man who had always did a long\n",
      "while at once so a movement that she said\n",
      "thinks, and took out their mansers, she caught to herself, and as a coldran shream of step and an expecting or subservented, he forget had a settle of that he seemed something. Though the door\n",
      "was an instant to her, to\n",
      "the mothor, when he was contenting his\n",
      "bestoring atthacted.\n",
      "\n",
      "\"Yes, the most sense of mysher in society and stupber most face.\" She was standing that the\n",
      "princess, and she had strengthens the same an intemplate to the carriage of the constant,\n",
      "his face and talking of happy, and then seemed to him at the carts of her, who had to be forgent him.\n",
      "\n",
      "\"I shall not have\n",
      "taken marriage, and he\n",
      "dressed wime,\" said Levin, and so see the means to have been in the most farther, to the position of her face, and saw a close to\n",
      "her since she said to the strongs to be too, but with such silence, had to take an expressions and horses to\n",
      "his world, and anything was not the constinction to anster of them to the millich of the forest in spation.\n",
      "\n",
      "Anna heard a most time so and so is true, when she was clissing out and stalling her face with his banes that was not to be service.\n",
      "\n",
      "\"Then's a sending things anyway, you know you,\" he said.\n",
      "\n",
      "\"This is\n",
      "the most mustrail way about.... But I was that soceety to be as a sun in to this\n",
      "wealth imposition, and how are you that they should never tell you a little and things and more than a servige, all the mare were all of me to the sense of society in this simply to make an enjoyments of her heart. In an and waiting for her and has\n",
      "not time to say, there to\n",
      "be said simply, and there is the country to\n",
      "take. But that's\n",
      "a man to tell you, I do that it would be as the marshes. I saw the terrible out of this convinced\n",
      "of those way of the face.\"\n",
      "\n",
      "\"Yes. The second casts of more indifferent to such\n"
     ]
    }
   ],
   "source": [
    "# Sample using a loaded model\n",
    "print(sample(loaded, 2000, top_k=5, prime=\"And Levin said\"))"
   ]
  },
  {
   "cell_type": "code",
   "execution_count": 22,
   "metadata": {},
   "outputs": [
    {
     "data": {
      "text/plain": [
       "'/home/workspace/data.zip'"
      ]
     },
     "execution_count": 22,
     "metadata": {},
     "output_type": "execute_result"
    }
   ],
   "source": [
    "import shutil\n",
    "shutil.make_archive('data', 'zip', 'data')"
   ]
  },
  {
   "cell_type": "code",
   "execution_count": null,
   "metadata": {},
   "outputs": [],
   "source": []
  }
 ],
 "metadata": {
  "kernelspec": {
   "display_name": "Python 3",
   "language": "python",
   "name": "python3"
  },
  "language_info": {
   "codemirror_mode": {
    "name": "ipython",
    "version": 3
   },
   "file_extension": ".py",
   "mimetype": "text/x-python",
   "name": "python",
   "nbconvert_exporter": "python",
   "pygments_lexer": "ipython3",
   "version": "3.6.3"
  }
 },
 "nbformat": 4,
 "nbformat_minor": 2
}
