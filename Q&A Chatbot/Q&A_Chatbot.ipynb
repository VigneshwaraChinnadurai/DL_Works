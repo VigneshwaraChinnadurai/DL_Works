{
  "nbformat": 4,
  "nbformat_minor": 0,
  "metadata": {
    "colab": {
      "name": "Q&A Chatbot.ipynb",
      "provenance": [],
      "authorship_tag": "ABX9TyNcuGYF71oxOthguQe2lzu1",
      "include_colab_link": true
    },
    "kernelspec": {
      "name": "python3",
      "display_name": "Python 3"
    },
    "accelerator": "GPU"
  },
  "cells": [
    {
      "cell_type": "markdown",
      "metadata": {
        "id": "view-in-github",
        "colab_type": "text"
      },
      "source": [
        "<a href=\"https://colab.research.google.com/github/VigneshwaraChinnadurai/DL_Works/blob/master/Q%26A%20Chatbot/Q%26A_Chatbot.ipynb\" target=\"_parent\"><img src=\"https://colab.research.google.com/assets/colab-badge.svg\" alt=\"Open In Colab\"/></a>"
      ]
    },
    {
      "cell_type": "code",
      "metadata": {
        "id": "3EcINn6FN8XT",
        "colab_type": "code",
        "colab": {}
      },
      "source": [
        "import tensorflow as tf"
      ],
      "execution_count": 0,
      "outputs": []
    },
    {
      "cell_type": "code",
      "metadata": {
        "id": "7R1Qri53PG7m",
        "colab_type": "code",
        "colab": {
          "base_uri": "https://localhost:8080/",
          "height": 34
        },
        "outputId": "9d792490-aa93-4817-9766-0f2e22b0c085"
      },
      "source": [
        "tf.test.is_gpu_available()"
      ],
      "execution_count": 3,
      "outputs": [
        {
          "output_type": "execute_result",
          "data": {
            "text/plain": [
              "True"
            ]
          },
          "metadata": {
            "tags": []
          },
          "execution_count": 3
        }
      ]
    },
    {
      "cell_type": "code",
      "metadata": {
        "id": "uIPI5uZRPWe3",
        "colab_type": "code",
        "colab": {
          "base_uri": "https://localhost:8080/",
          "height": 34
        },
        "outputId": "80e05321-f28e-4fef-c52b-9f2645c1d69f"
      },
      "source": [
        "tf.test.gpu_device_name()"
      ],
      "execution_count": 4,
      "outputs": [
        {
          "output_type": "execute_result",
          "data": {
            "text/plain": [
              "'/device:GPU:0'"
            ]
          },
          "metadata": {
            "tags": []
          },
          "execution_count": 4
        }
      ]
    },
    {
      "cell_type": "code",
      "metadata": {
        "id": "ysvt-v-8QDEu",
        "colab_type": "code",
        "colab": {}
      },
      "source": [
        "import pickle\n",
        "import numpy as np"
      ],
      "execution_count": 0,
      "outputs": []
    },
    {
      "cell_type": "code",
      "metadata": {
        "id": "3IZywy2oPX1Q",
        "colab_type": "code",
        "colab": {}
      },
      "source": [
        "#STEP-1: Install Import Libraries\n",
        "!pip install -U -q PyDrive\n",
        "from pydrive.auth import GoogleAuth\n",
        "from pydrive.drive import GoogleDrive\n",
        "from google.colab import auth\n",
        "from oauth2client.client import GoogleCredentials\n",
        "\n",
        "#STEP-2: Autheticate E-Mail ID\n",
        "\n",
        "auth.authenticate_user()\n",
        "gauth = GoogleAuth()\n",
        "gauth.credentials = GoogleCredentials.get_application_default()\n",
        "drive = GoogleDrive(gauth)\n",
        "\n",
        "#STEP-3: Get File from Drive using file-ID\n",
        "\n",
        "#2.1 Get the file\n",
        "downloaded = drive.CreateFile({'id':'12TsfynouQ3E2vagWGVJ2u-Vs-Qav-5Te'})\n",
        "# replace the id with id of file you want to access\n",
        "downloaded.GetContentFile('test_qa.txt') "
      ],
      "execution_count": 0,
      "outputs": []
    },
    {
      "cell_type": "code",
      "metadata": {
        "id": "1PQpaIbrP5GX",
        "colab_type": "code",
        "colab": {}
      },
      "source": [
        "with open(\"test_qa.txt\", \"rb\") as fp:   # Unpickling\n",
        "    test_data =  pickle.load(fp)"
      ],
      "execution_count": 0,
      "outputs": []
    },
    {
      "cell_type": "code",
      "metadata": {
        "id": "At3AaXR4P9In",
        "colab_type": "code",
        "colab": {}
      },
      "source": [
        "#STEP-1: Install Import Libraries\n",
        "!pip install -U -q PyDrive\n",
        "from pydrive.auth import GoogleAuth\n",
        "from pydrive.drive import GoogleDrive\n",
        "from google.colab import auth\n",
        "from oauth2client.client import GoogleCredentials\n",
        "\n",
        "#STEP-2: Autheticate E-Mail ID\n",
        "\n",
        "auth.authenticate_user()\n",
        "gauth = GoogleAuth()\n",
        "gauth.credentials = GoogleCredentials.get_application_default()\n",
        "drive = GoogleDrive(gauth)\n",
        "\n",
        "#STEP-3: Get File from Drive using file-ID\n",
        "\n",
        "#2.1 Get the file\n",
        "downloaded = drive.CreateFile({'id':'1c4pw-dW9wYLNzY5YbS3NtQebIKm04FHp'})\n",
        "# replace the id with id of file you want to access\n",
        "downloaded.GetContentFile('train_qa.txt') "
      ],
      "execution_count": 0,
      "outputs": []
    },
    {
      "cell_type": "code",
      "metadata": {
        "id": "4o7rlypJQZPW",
        "colab_type": "code",
        "colab": {}
      },
      "source": [
        "with open(\"train_qa.txt\", \"rb\") as fp:   # Unpickling\n",
        "    train_data =  pickle.load(fp)"
      ],
      "execution_count": 0,
      "outputs": []
    },
    {
      "cell_type": "code",
      "metadata": {
        "id": "p2ZMKqG5QpEP",
        "colab_type": "code",
        "colab": {
          "base_uri": "https://localhost:8080/",
          "height": 34
        },
        "outputId": "3170816c-c9aa-43cf-e0ad-09ceba660d43"
      },
      "source": [
        "type(test_data)"
      ],
      "execution_count": 10,
      "outputs": [
        {
          "output_type": "execute_result",
          "data": {
            "text/plain": [
              "list"
            ]
          },
          "metadata": {
            "tags": []
          },
          "execution_count": 10
        }
      ]
    },
    {
      "cell_type": "code",
      "metadata": {
        "id": "WjLT8X-cQuxu",
        "colab_type": "code",
        "colab": {
          "base_uri": "https://localhost:8080/",
          "height": 34
        },
        "outputId": "bbc34419-fbdc-4f19-f85c-13c72530e6dc"
      },
      "source": [
        "len(test_data)"
      ],
      "execution_count": 11,
      "outputs": [
        {
          "output_type": "execute_result",
          "data": {
            "text/plain": [
              "1000"
            ]
          },
          "metadata": {
            "tags": []
          },
          "execution_count": 11
        }
      ]
    },
    {
      "cell_type": "code",
      "metadata": {
        "id": "wFHn8npFQx-J",
        "colab_type": "code",
        "colab": {
          "base_uri": "https://localhost:8080/",
          "height": 34
        },
        "outputId": "0b3d4ce9-52f2-4a11-d596-2622a1fbcdb6"
      },
      "source": [
        "type(train_data)"
      ],
      "execution_count": 12,
      "outputs": [
        {
          "output_type": "execute_result",
          "data": {
            "text/plain": [
              "list"
            ]
          },
          "metadata": {
            "tags": []
          },
          "execution_count": 12
        }
      ]
    },
    {
      "cell_type": "code",
      "metadata": {
        "id": "KtWrYGkTQzQw",
        "colab_type": "code",
        "colab": {
          "base_uri": "https://localhost:8080/",
          "height": 34
        },
        "outputId": "f04c0967-8c78-496b-fd54-197d45414628"
      },
      "source": [
        "len(train_data)"
      ],
      "execution_count": 13,
      "outputs": [
        {
          "output_type": "execute_result",
          "data": {
            "text/plain": [
              "10000"
            ]
          },
          "metadata": {
            "tags": []
          },
          "execution_count": 13
        }
      ]
    },
    {
      "cell_type": "code",
      "metadata": {
        "id": "daMb-EHrQ0iX",
        "colab_type": "code",
        "colab": {
          "base_uri": "https://localhost:8080/",
          "height": 252
        },
        "outputId": "d79fba55-9411-4a95-b35a-9908178a315d"
      },
      "source": [
        "train_data[0]"
      ],
      "execution_count": 14,
      "outputs": [
        {
          "output_type": "execute_result",
          "data": {
            "text/plain": [
              "(['Mary',\n",
              "  'moved',\n",
              "  'to',\n",
              "  'the',\n",
              "  'bathroom',\n",
              "  '.',\n",
              "  'Sandra',\n",
              "  'journeyed',\n",
              "  'to',\n",
              "  'the',\n",
              "  'bedroom',\n",
              "  '.'],\n",
              " ['Is', 'Sandra', 'in', 'the', 'hallway', '?'],\n",
              " 'no')"
            ]
          },
          "metadata": {
            "tags": []
          },
          "execution_count": 14
        }
      ]
    },
    {
      "cell_type": "code",
      "metadata": {
        "id": "fuWM8-__Q3Ou",
        "colab_type": "code",
        "colab": {
          "base_uri": "https://localhost:8080/",
          "height": 34
        },
        "outputId": "1e132059-a6c0-44ad-9d8a-9e384d8f9f4c"
      },
      "source": [
        "' '.join(train_data[0][0])"
      ],
      "execution_count": 15,
      "outputs": [
        {
          "output_type": "execute_result",
          "data": {
            "text/plain": [
              "'Mary moved to the bathroom . Sandra journeyed to the bedroom .'"
            ]
          },
          "metadata": {
            "tags": []
          },
          "execution_count": 15
        }
      ]
    },
    {
      "cell_type": "code",
      "metadata": {
        "id": "h3ht3WelQ74U",
        "colab_type": "code",
        "colab": {}
      },
      "source": [
        "# Note the training dataset has space inbetween the period and last word of each sentence\n",
        "# Similarly for every other punctuation."
      ],
      "execution_count": 0,
      "outputs": []
    },
    {
      "cell_type": "code",
      "metadata": {
        "id": "Y2_rj0IFRI8l",
        "colab_type": "code",
        "colab": {
          "base_uri": "https://localhost:8080/",
          "height": 34
        },
        "outputId": "3b18e7ed-0414-4524-ed0b-6c60e49ce9d1"
      },
      "source": [
        "' '.join(train_data[0][1])"
      ],
      "execution_count": 18,
      "outputs": [
        {
          "output_type": "execute_result",
          "data": {
            "text/plain": [
              "'Is Sandra in the hallway ?'"
            ]
          },
          "metadata": {
            "tags": []
          },
          "execution_count": 18
        }
      ]
    },
    {
      "cell_type": "code",
      "metadata": {
        "id": "s21A9gY1RQdA",
        "colab_type": "code",
        "colab": {}
      },
      "source": [
        "# Create a set that holds the vocab words\n",
        "vocab = set()"
      ],
      "execution_count": 0,
      "outputs": []
    },
    {
      "cell_type": "code",
      "metadata": {
        "id": "kzpIbGsTRSFT",
        "colab_type": "code",
        "colab": {}
      },
      "source": [
        "all_data = test_data + train_data"
      ],
      "execution_count": 0,
      "outputs": []
    },
    {
      "cell_type": "code",
      "metadata": {
        "id": "C7IAOW5ORTQS",
        "colab_type": "code",
        "colab": {}
      },
      "source": [
        "for story, question , answer in all_data:\n",
        "    vocab = vocab.union(set(story))\n",
        "    vocab = vocab.union(set(question))"
      ],
      "execution_count": 0,
      "outputs": []
    },
    {
      "cell_type": "code",
      "metadata": {
        "id": "_WsrSta9RXUr",
        "colab_type": "code",
        "colab": {}
      },
      "source": [
        "vocab.add('no')\n",
        "vocab.add('yes')"
      ],
      "execution_count": 0,
      "outputs": []
    },
    {
      "cell_type": "code",
      "metadata": {
        "id": "53aiyVLCRYkB",
        "colab_type": "code",
        "colab": {
          "base_uri": "https://localhost:8080/",
          "height": 638
        },
        "outputId": "a06ada64-bc11-4e58-db4b-c35e02a736f0"
      },
      "source": [
        "vocab"
      ],
      "execution_count": 23,
      "outputs": [
        {
          "output_type": "execute_result",
          "data": {
            "text/plain": [
              "{'.',\n",
              " '?',\n",
              " 'Daniel',\n",
              " 'Is',\n",
              " 'John',\n",
              " 'Mary',\n",
              " 'Sandra',\n",
              " 'apple',\n",
              " 'back',\n",
              " 'bathroom',\n",
              " 'bedroom',\n",
              " 'discarded',\n",
              " 'down',\n",
              " 'dropped',\n",
              " 'football',\n",
              " 'garden',\n",
              " 'got',\n",
              " 'grabbed',\n",
              " 'hallway',\n",
              " 'in',\n",
              " 'journeyed',\n",
              " 'kitchen',\n",
              " 'left',\n",
              " 'milk',\n",
              " 'moved',\n",
              " 'no',\n",
              " 'office',\n",
              " 'picked',\n",
              " 'put',\n",
              " 'the',\n",
              " 'there',\n",
              " 'to',\n",
              " 'took',\n",
              " 'travelled',\n",
              " 'up',\n",
              " 'went',\n",
              " 'yes'}"
            ]
          },
          "metadata": {
            "tags": []
          },
          "execution_count": 23
        }
      ]
    },
    {
      "cell_type": "code",
      "metadata": {
        "id": "-vwfhJHQRaK1",
        "colab_type": "code",
        "colab": {}
      },
      "source": [
        "# This is a small vocabulary set by which we're unfortunately forced to select words from it. (Sorry for that. :( )"
      ],
      "execution_count": 0,
      "outputs": []
    },
    {
      "cell_type": "code",
      "metadata": {
        "id": "TrEpJBlGRp_f",
        "colab_type": "code",
        "colab": {}
      },
      "source": [
        "vocab_len = len(vocab) + 1 #we add an extra space to hold a 0 for Keras's pad_sequences"
      ],
      "execution_count": 0,
      "outputs": []
    },
    {
      "cell_type": "code",
      "metadata": {
        "id": "APrVTtvSRt75",
        "colab_type": "code",
        "colab": {}
      },
      "source": [
        "max_story_len = max([len(data[0]) for data in all_data])"
      ],
      "execution_count": 0,
      "outputs": []
    },
    {
      "cell_type": "code",
      "metadata": {
        "id": "z9hwOtPiRvLb",
        "colab_type": "code",
        "colab": {
          "base_uri": "https://localhost:8080/",
          "height": 34
        },
        "outputId": "970db60b-2592-4eaf-eba8-547f61efedda"
      },
      "source": [
        "max_story_len"
      ],
      "execution_count": 27,
      "outputs": [
        {
          "output_type": "execute_result",
          "data": {
            "text/plain": [
              "156"
            ]
          },
          "metadata": {
            "tags": []
          },
          "execution_count": 27
        }
      ]
    },
    {
      "cell_type": "code",
      "metadata": {
        "id": "oNUPWkqSRwYG",
        "colab_type": "code",
        "colab": {}
      },
      "source": [
        "max_question_len = max([len(data[1]) for data in all_data])"
      ],
      "execution_count": 0,
      "outputs": []
    },
    {
      "cell_type": "code",
      "metadata": {
        "id": "c5u2UTKjRxoM",
        "colab_type": "code",
        "colab": {
          "base_uri": "https://localhost:8080/",
          "height": 34
        },
        "outputId": "80e9a113-cb88-47d6-b277-0b7392c84447"
      },
      "source": [
        "max_question_len"
      ],
      "execution_count": 29,
      "outputs": [
        {
          "output_type": "execute_result",
          "data": {
            "text/plain": [
              "6"
            ]
          },
          "metadata": {
            "tags": []
          },
          "execution_count": 29
        }
      ]
    },
    {
      "cell_type": "code",
      "metadata": {
        "id": "W3TT4F1ARzWM",
        "colab_type": "code",
        "colab": {}
      },
      "source": [
        "# Reserve 0 for pad_sequences\n",
        "vocab_size = len(vocab) + 1"
      ],
      "execution_count": 0,
      "outputs": []
    },
    {
      "cell_type": "code",
      "metadata": {
        "id": "tDBU-TvqR3jl",
        "colab_type": "code",
        "colab": {
          "base_uri": "https://localhost:8080/",
          "height": 34
        },
        "outputId": "ceb243c2-bb70-442e-c8e9-df1af6785be7"
      },
      "source": [
        "from keras.preprocessing.sequence import pad_sequences\n",
        "from keras.preprocessing.text import Tokenizer"
      ],
      "execution_count": 31,
      "outputs": [
        {
          "output_type": "stream",
          "text": [
            "Using TensorFlow backend.\n"
          ],
          "name": "stderr"
        }
      ]
    },
    {
      "cell_type": "code",
      "metadata": {
        "id": "AVGdiG25R5ot",
        "colab_type": "code",
        "colab": {}
      },
      "source": [
        "# integer encode sequences of words\n",
        "tokenizer = Tokenizer(filters=[])\n",
        "tokenizer.fit_on_texts(vocab)"
      ],
      "execution_count": 0,
      "outputs": []
    },
    {
      "cell_type": "code",
      "metadata": {
        "id": "o1aXlnaAR7S8",
        "colab_type": "code",
        "colab": {
          "base_uri": "https://localhost:8080/",
          "height": 638
        },
        "outputId": "2e29fe50-f215-46dc-e281-15b3bcf2ff66"
      },
      "source": [
        "tokenizer.word_index"
      ],
      "execution_count": 33,
      "outputs": [
        {
          "output_type": "execute_result",
          "data": {
            "text/plain": [
              "{'.': 32,\n",
              " '?': 23,\n",
              " 'apple': 31,\n",
              " 'back': 30,\n",
              " 'bathroom': 8,\n",
              " 'bedroom': 15,\n",
              " 'daniel': 22,\n",
              " 'discarded': 13,\n",
              " 'down': 2,\n",
              " 'dropped': 9,\n",
              " 'football': 6,\n",
              " 'garden': 21,\n",
              " 'got': 36,\n",
              " 'grabbed': 25,\n",
              " 'hallway': 33,\n",
              " 'in': 20,\n",
              " 'is': 12,\n",
              " 'john': 14,\n",
              " 'journeyed': 17,\n",
              " 'kitchen': 10,\n",
              " 'left': 3,\n",
              " 'mary': 18,\n",
              " 'milk': 5,\n",
              " 'moved': 11,\n",
              " 'no': 27,\n",
              " 'office': 16,\n",
              " 'picked': 29,\n",
              " 'put': 19,\n",
              " 'sandra': 24,\n",
              " 'the': 28,\n",
              " 'there': 1,\n",
              " 'to': 34,\n",
              " 'took': 37,\n",
              " 'travelled': 35,\n",
              " 'up': 4,\n",
              " 'went': 7,\n",
              " 'yes': 26}"
            ]
          },
          "metadata": {
            "tags": []
          },
          "execution_count": 33
        }
      ]
    },
    {
      "cell_type": "code",
      "metadata": {
        "id": "SoPKXW4iR80F",
        "colab_type": "code",
        "colab": {}
      },
      "source": [
        "train_story_text = []\n",
        "train_question_text = []\n",
        "train_answers = []\n",
        "\n",
        "for story,question,answer in train_data:\n",
        "    train_story_text.append(story)\n",
        "    train_question_text.append(question)"
      ],
      "execution_count": 0,
      "outputs": []
    },
    {
      "cell_type": "code",
      "metadata": {
        "id": "cHlKZs8aR-vq",
        "colab_type": "code",
        "colab": {}
      },
      "source": [
        "train_story_seq = tokenizer.texts_to_sequences(train_story_text)"
      ],
      "execution_count": 0,
      "outputs": []
    },
    {
      "cell_type": "code",
      "metadata": {
        "id": "gwpspHNTR_-C",
        "colab_type": "code",
        "colab": {
          "base_uri": "https://localhost:8080/",
          "height": 34
        },
        "outputId": "58805503-5e47-4b05-9a51-f0ca7cde3e9a"
      },
      "source": [
        "len(train_story_text)"
      ],
      "execution_count": 36,
      "outputs": [
        {
          "output_type": "execute_result",
          "data": {
            "text/plain": [
              "10000"
            ]
          },
          "metadata": {
            "tags": []
          },
          "execution_count": 36
        }
      ]
    },
    {
      "cell_type": "code",
      "metadata": {
        "id": "j8PICGbBSBCU",
        "colab_type": "code",
        "colab": {}
      },
      "source": [
        "def vectorize_stories(data, word_index=tokenizer.word_index, max_story_len=max_story_len,max_question_len=max_question_len):\n",
        "    # For this problem\n",
        "    # X = STORIES\n",
        "    X = []\n",
        "    # Xq = QUERY/QUESTION\n",
        "    Xq = []\n",
        "    # Y = CORRECT ANSWER\n",
        "    Y = []\n",
        "    \n",
        "    \n",
        "    for story, query, answer in data:\n",
        "        \n",
        "        x = [word_index[word.lower()] for word in story]\n",
        "        xq = [word_index[word.lower()] for word in query]\n",
        "\n",
        "        y = np.zeros(len(word_index) + 1)\n",
        "        \n",
        "        y[word_index[answer]] = 1\n",
        "        \n",
        "        # Append each set of story,query, and answer to their respective holding lists\n",
        "        X.append(x)\n",
        "        Xq.append(xq)\n",
        "        Y.append(y)\n",
        "        \n",
        "    # Finally, pad the sequences based on their max length so the RNN can be trained on uniformly long sequences.\n",
        "        \n",
        "    # RETURN TUPLE FOR UNPACKING\n",
        "    return (pad_sequences(X, maxlen=max_story_len),pad_sequences(Xq, maxlen=max_question_len), np.array(Y))"
      ],
      "execution_count": 0,
      "outputs": []
    },
    {
      "cell_type": "code",
      "metadata": {
        "id": "eueo3g_pSri4",
        "colab_type": "code",
        "colab": {}
      },
      "source": [
        "inputs_train, queries_train, answers_train = vectorize_stories(train_data)"
      ],
      "execution_count": 0,
      "outputs": []
    },
    {
      "cell_type": "code",
      "metadata": {
        "id": "G-bYmkKISsl3",
        "colab_type": "code",
        "colab": {}
      },
      "source": [
        "inputs_test, queries_test, answers_test = vectorize_stories(test_data)"
      ],
      "execution_count": 0,
      "outputs": []
    },
    {
      "cell_type": "code",
      "metadata": {
        "id": "SM-OQNVMStsB",
        "colab_type": "code",
        "colab": {
          "base_uri": "https://localhost:8080/",
          "height": 134
        },
        "outputId": "7c7ec063-9e22-4df7-d3c2-90905fde3bc5"
      },
      "source": [
        "inputs_test"
      ],
      "execution_count": 40,
      "outputs": [
        {
          "output_type": "execute_result",
          "data": {
            "text/plain": [
              "array([[ 0,  0,  0, ..., 28, 15, 32],\n",
              "       [ 0,  0,  0, ..., 28, 21, 32],\n",
              "       [ 0,  0,  0, ..., 28, 21, 32],\n",
              "       ...,\n",
              "       [ 0,  0,  0, ..., 28, 31, 32],\n",
              "       [ 0,  0,  0, ..., 28, 21, 32],\n",
              "       [ 0,  0,  0, ..., 31,  1, 32]], dtype=int32)"
            ]
          },
          "metadata": {
            "tags": []
          },
          "execution_count": 40
        }
      ]
    },
    {
      "cell_type": "code",
      "metadata": {
        "id": "oq8TbzpqS05d",
        "colab_type": "code",
        "colab": {
          "base_uri": "https://localhost:8080/",
          "height": 134
        },
        "outputId": "3c634133-dd27-4cec-ae8d-da8d6a4c05f3"
      },
      "source": [
        "queries_test"
      ],
      "execution_count": 41,
      "outputs": [
        {
          "output_type": "execute_result",
          "data": {
            "text/plain": [
              "array([[12, 14, 20, 28, 10, 23],\n",
              "       [12, 14, 20, 28, 10, 23],\n",
              "       [12, 14, 20, 28, 21, 23],\n",
              "       ...,\n",
              "       [12, 18, 20, 28, 15, 23],\n",
              "       [12, 24, 20, 28, 21, 23],\n",
              "       [12, 18, 20, 28, 21, 23]], dtype=int32)"
            ]
          },
          "metadata": {
            "tags": []
          },
          "execution_count": 41
        }
      ]
    },
    {
      "cell_type": "code",
      "metadata": {
        "id": "aHza0-aMS2Bd",
        "colab_type": "code",
        "colab": {
          "base_uri": "https://localhost:8080/",
          "height": 134
        },
        "outputId": "78e127ce-69b7-407a-ddb3-535f4335e9cc"
      },
      "source": [
        "answers_test"
      ],
      "execution_count": 42,
      "outputs": [
        {
          "output_type": "execute_result",
          "data": {
            "text/plain": [
              "array([[0., 0., 0., ..., 0., 0., 0.],\n",
              "       [0., 0., 0., ..., 0., 0., 0.],\n",
              "       [0., 0., 0., ..., 0., 0., 0.],\n",
              "       ...,\n",
              "       [0., 0., 0., ..., 0., 0., 0.],\n",
              "       [0., 0., 0., ..., 0., 0., 0.],\n",
              "       [0., 0., 0., ..., 0., 0., 0.]])"
            ]
          },
          "metadata": {
            "tags": []
          },
          "execution_count": 42
        }
      ]
    },
    {
      "cell_type": "code",
      "metadata": {
        "id": "mukioscHS3Ry",
        "colab_type": "code",
        "colab": {
          "base_uri": "https://localhost:8080/",
          "height": 84
        },
        "outputId": "4702fd61-8139-422e-c6d5-7563e7940747"
      },
      "source": [
        "sum(answers_test)"
      ],
      "execution_count": 43,
      "outputs": [
        {
          "output_type": "execute_result",
          "data": {
            "text/plain": [
              "array([  0.,   0.,   0.,   0.,   0.,   0.,   0.,   0.,   0.,   0.,   0.,\n",
              "         0.,   0.,   0.,   0.,   0.,   0.,   0.,   0.,   0.,   0.,   0.,\n",
              "         0.,   0.,   0.,   0., 497., 503.,   0.,   0.,   0.,   0.,   0.,\n",
              "         0.,   0.,   0.,   0.,   0.])"
            ]
          },
          "metadata": {
            "tags": []
          },
          "execution_count": 43
        }
      ]
    },
    {
      "cell_type": "code",
      "metadata": {
        "id": "TKPyLv9YS4di",
        "colab_type": "code",
        "colab": {}
      },
      "source": [
        "# We have count for only 2 columns which are YES and NO."
      ],
      "execution_count": 0,
      "outputs": []
    },
    {
      "cell_type": "code",
      "metadata": {
        "id": "P1AHdJxcTCnL",
        "colab_type": "code",
        "colab": {
          "base_uri": "https://localhost:8080/",
          "height": 34
        },
        "outputId": "c89becd9-4140-4b11-cf36-3b84aa7b029b"
      },
      "source": [
        "tokenizer.word_index['yes']"
      ],
      "execution_count": 45,
      "outputs": [
        {
          "output_type": "execute_result",
          "data": {
            "text/plain": [
              "26"
            ]
          },
          "metadata": {
            "tags": []
          },
          "execution_count": 45
        }
      ]
    },
    {
      "cell_type": "code",
      "metadata": {
        "id": "1aNL_9ZQTEMB",
        "colab_type": "code",
        "colab": {
          "base_uri": "https://localhost:8080/",
          "height": 34
        },
        "outputId": "d5011412-86f4-4742-d521-23bca64f85b3"
      },
      "source": [
        "tokenizer.word_index['no']"
      ],
      "execution_count": 46,
      "outputs": [
        {
          "output_type": "execute_result",
          "data": {
            "text/plain": [
              "27"
            ]
          },
          "metadata": {
            "tags": []
          },
          "execution_count": 46
        }
      ]
    },
    {
      "cell_type": "code",
      "metadata": {
        "id": "mM88SMe4TFOv",
        "colab_type": "code",
        "colab": {}
      },
      "source": [
        "# Creating model\n",
        "\n",
        "from keras.models import Sequential, Model\n",
        "from keras.layers.embeddings import Embedding\n",
        "from keras.layers import Input, Activation, Dense, Permute, Dropout\n",
        "from keras.layers import add, dot, concatenate\n",
        "from keras.layers import LSTM"
      ],
      "execution_count": 0,
      "outputs": []
    },
    {
      "cell_type": "code",
      "metadata": {
        "id": "uMkknDDeTLBO",
        "colab_type": "code",
        "colab": {}
      },
      "source": [
        "# Creating placeholders"
      ],
      "execution_count": 0,
      "outputs": []
    },
    {
      "cell_type": "code",
      "metadata": {
        "id": "LjpS8sfOTQqf",
        "colab_type": "code",
        "colab": {}
      },
      "source": [
        "input_sequence = Input((max_story_len,))\n",
        "question = Input((max_question_len,))"
      ],
      "execution_count": 0,
      "outputs": []
    },
    {
      "cell_type": "code",
      "metadata": {
        "id": "TjzyLYB5TQ4G",
        "colab_type": "code",
        "colab": {}
      },
      "source": [
        "# Input Encoder M\n",
        "\n",
        "# Input gets embedded to a sequence of vectors\n",
        "input_encoder_m = Sequential()\n",
        "input_encoder_m.add(Embedding(input_dim=vocab_size,output_dim=64))\n",
        "input_encoder_m.add(Dropout(0.3))\n",
        "\n",
        "# Output:\n",
        "# (samples, story_maxlen, embedding_dim)"
      ],
      "execution_count": 0,
      "outputs": []
    },
    {
      "cell_type": "code",
      "metadata": {
        "id": "G9FriIGXTXwY",
        "colab_type": "code",
        "colab": {}
      },
      "source": [
        "# Input Encoder C\n",
        "\n",
        "# embed the input into a sequence of vectors of size query_maxlen\n",
        "input_encoder_c = Sequential()\n",
        "input_encoder_c.add(Embedding(input_dim=vocab_size,output_dim=max_question_len))\n",
        "input_encoder_c.add(Dropout(0.3))\n",
        "# output: (samples, story_maxlen, query_maxlen)"
      ],
      "execution_count": 0,
      "outputs": []
    },
    {
      "cell_type": "code",
      "metadata": {
        "id": "zg7v3YlbTjSa",
        "colab_type": "code",
        "colab": {}
      },
      "source": [
        "# Question Encoder\n",
        "\n",
        "# embed the question into a sequence of vectors\n",
        "question_encoder = Sequential()\n",
        "question_encoder.add(Embedding(input_dim=vocab_size,\n",
        "                               output_dim=64,\n",
        "                               input_length=max_question_len))\n",
        "question_encoder.add(Dropout(0.3))\n",
        "# output: (samples, query_maxlen, embedding_dim)"
      ],
      "execution_count": 0,
      "outputs": []
    },
    {
      "cell_type": "code",
      "metadata": {
        "id": "SG4X97usTnIb",
        "colab_type": "code",
        "colab": {}
      },
      "source": [
        "# Encoding the sequence"
      ],
      "execution_count": 0,
      "outputs": []
    },
    {
      "cell_type": "code",
      "metadata": {
        "id": "jGPkObIgTrCJ",
        "colab_type": "code",
        "colab": {}
      },
      "source": [
        "# encode input sequence and questions (which are indices)\n",
        "# to sequences of dense vectors\n",
        "input_encoded_m = input_encoder_m(input_sequence)\n",
        "input_encoded_c = input_encoder_c(input_sequence)\n",
        "question_encoded = question_encoder(question)"
      ],
      "execution_count": 0,
      "outputs": []
    },
    {
      "cell_type": "code",
      "metadata": {
        "id": "0RmPBH_-TrtC",
        "colab_type": "code",
        "colab": {}
      },
      "source": [
        "# Using dot product to compute the match between first i/p vector sequence and the query\n",
        "\n",
        "match = dot([input_encoded_m, question_encoded], axes=(2, 2))\n",
        "match = Activation('softmax')(match)"
      ],
      "execution_count": 0,
      "outputs": []
    },
    {
      "cell_type": "code",
      "metadata": {
        "id": "75frChueUMri",
        "colab_type": "code",
        "colab": {}
      },
      "source": [
        "# Adding this match matrix with the second input vector sequence\n",
        "\n",
        "response = add([match, input_encoded_c])  \n",
        "response = Permute((2, 1))(response) "
      ],
      "execution_count": 0,
      "outputs": []
    },
    {
      "cell_type": "code",
      "metadata": {
        "id": "ZnW02hpZUV7v",
        "colab_type": "code",
        "colab": {}
      },
      "source": [
        "# concatenate the match matrix with the question vector sequence\n",
        "answer = concatenate([response, question_encoded])"
      ],
      "execution_count": 0,
      "outputs": []
    },
    {
      "cell_type": "code",
      "metadata": {
        "id": "BmPBg8piUZpo",
        "colab_type": "code",
        "colab": {}
      },
      "source": [
        "# Reduce with RNN (LSTM)\n",
        "answer = LSTM(32)(answer) "
      ],
      "execution_count": 0,
      "outputs": []
    },
    {
      "cell_type": "code",
      "metadata": {
        "id": "h_LoLvmvUhHp",
        "colab_type": "code",
        "colab": {}
      },
      "source": [
        "# Regularization with Dropout\n",
        "answer = Dropout(0.5)(answer)\n",
        "answer = Dense(vocab_size)(answer) "
      ],
      "execution_count": 0,
      "outputs": []
    },
    {
      "cell_type": "code",
      "metadata": {
        "id": "zzXg9MKZUlki",
        "colab_type": "code",
        "colab": {}
      },
      "source": [
        "# we're outputing a probability distribution over the vocabulary\n",
        "answer = Activation('softmax')(answer)\n",
        "\n",
        "# building the final model\n",
        "model = Model([input_sequence, question], answer)\n",
        "model.compile(optimizer='rmsprop', loss='categorical_crossentropy',\n",
        "              metrics=['accuracy'])"
      ],
      "execution_count": 0,
      "outputs": []
    },
    {
      "cell_type": "code",
      "metadata": {
        "id": "CqVhyiduUvO6",
        "colab_type": "code",
        "colab": {
          "base_uri": "https://localhost:8080/",
          "height": 672
        },
        "outputId": "3e34cc57-e5a6-4d4e-c7c0-ad0cee0b14de"
      },
      "source": [
        "model.summary()"
      ],
      "execution_count": 62,
      "outputs": [
        {
          "output_type": "stream",
          "text": [
            "Model: \"model_1\"\n",
            "__________________________________________________________________________________________________\n",
            "Layer (type)                    Output Shape         Param #     Connected to                     \n",
            "==================================================================================================\n",
            "input_1 (InputLayer)            (None, 156)          0                                            \n",
            "__________________________________________________________________________________________________\n",
            "input_2 (InputLayer)            (None, 6)            0                                            \n",
            "__________________________________________________________________________________________________\n",
            "sequential_2 (Sequential)       multiple             2432        input_1[0][0]                    \n",
            "__________________________________________________________________________________________________\n",
            "sequential_4 (Sequential)       (None, 6, 64)        2432        input_2[0][0]                    \n",
            "__________________________________________________________________________________________________\n",
            "dot_1 (Dot)                     (None, 156, 6)       0           sequential_2[1][0]               \n",
            "                                                                 sequential_4[1][0]               \n",
            "__________________________________________________________________________________________________\n",
            "activation_1 (Activation)       (None, 156, 6)       0           dot_1[0][0]                      \n",
            "__________________________________________________________________________________________________\n",
            "sequential_3 (Sequential)       multiple             228         input_1[0][0]                    \n",
            "__________________________________________________________________________________________________\n",
            "add_1 (Add)                     (None, 156, 6)       0           activation_1[0][0]               \n",
            "                                                                 sequential_3[1][0]               \n",
            "__________________________________________________________________________________________________\n",
            "permute_1 (Permute)             (None, 6, 156)       0           add_1[0][0]                      \n",
            "__________________________________________________________________________________________________\n",
            "concatenate_1 (Concatenate)     (None, 6, 220)       0           permute_1[0][0]                  \n",
            "                                                                 sequential_4[1][0]               \n",
            "__________________________________________________________________________________________________\n",
            "lstm_1 (LSTM)                   (None, 32)           32384       concatenate_1[0][0]              \n",
            "__________________________________________________________________________________________________\n",
            "dropout_5 (Dropout)             (None, 32)           0           lstm_1[0][0]                     \n",
            "__________________________________________________________________________________________________\n",
            "dense_1 (Dense)                 (None, 38)           1254        dropout_5[0][0]                  \n",
            "__________________________________________________________________________________________________\n",
            "activation_2 (Activation)       (None, 38)           0           dense_1[0][0]                    \n",
            "==================================================================================================\n",
            "Total params: 38,730\n",
            "Trainable params: 38,730\n",
            "Non-trainable params: 0\n",
            "__________________________________________________________________________________________________\n"
          ],
          "name": "stdout"
        }
      ]
    },
    {
      "cell_type": "code",
      "metadata": {
        "id": "NKSYRq5BUx5z",
        "colab_type": "code",
        "colab": {
          "base_uri": "https://localhost:8080/",
          "height": 1000
        },
        "outputId": "17b4ba13-82e8-4c44-9659-3e04729b8ee8"
      },
      "source": [
        "# Let's do it\n",
        "history = model.fit([inputs_train, queries_train], answers_train,batch_size=32,epochs=120,validation_data=([inputs_test, queries_test], answers_test))"
      ],
      "execution_count": 63,
      "outputs": [
        {
          "output_type": "stream",
          "text": [
            "/usr/local/lib/python3.6/dist-packages/tensorflow/python/framework/indexed_slices.py:434: UserWarning: Converting sparse IndexedSlices to a dense Tensor of unknown shape. This may consume a large amount of memory.\n",
            "  \"Converting sparse IndexedSlices to a dense Tensor of unknown shape. \"\n"
          ],
          "name": "stderr"
        },
        {
          "output_type": "stream",
          "text": [
            "Train on 10000 samples, validate on 1000 samples\n",
            "Epoch 1/120\n",
            "10000/10000 [==============================] - 8s 775us/step - loss: 0.8675 - accuracy: 0.4980 - val_loss: 0.6960 - val_accuracy: 0.5030\n",
            "Epoch 2/120\n",
            "10000/10000 [==============================] - 6s 570us/step - loss: 0.7012 - accuracy: 0.4999 - val_loss: 0.6943 - val_accuracy: 0.5030\n",
            "Epoch 3/120\n",
            "10000/10000 [==============================] - 6s 572us/step - loss: 0.6959 - accuracy: 0.4981 - val_loss: 0.6937 - val_accuracy: 0.4970\n",
            "Epoch 4/120\n",
            "10000/10000 [==============================] - 6s 567us/step - loss: 0.6951 - accuracy: 0.5050 - val_loss: 0.6973 - val_accuracy: 0.4970\n",
            "Epoch 5/120\n",
            "10000/10000 [==============================] - 6s 577us/step - loss: 0.6945 - accuracy: 0.4997 - val_loss: 0.6954 - val_accuracy: 0.4970\n",
            "Epoch 6/120\n",
            "10000/10000 [==============================] - 6s 563us/step - loss: 0.6944 - accuracy: 0.5070 - val_loss: 0.6962 - val_accuracy: 0.5030\n",
            "Epoch 7/120\n",
            "10000/10000 [==============================] - 5s 544us/step - loss: 0.6947 - accuracy: 0.4971 - val_loss: 0.6934 - val_accuracy: 0.4970\n",
            "Epoch 8/120\n",
            "10000/10000 [==============================] - 6s 574us/step - loss: 0.6943 - accuracy: 0.5020 - val_loss: 0.6934 - val_accuracy: 0.5030\n",
            "Epoch 9/120\n",
            "10000/10000 [==============================] - 5s 550us/step - loss: 0.6939 - accuracy: 0.5089 - val_loss: 0.6934 - val_accuracy: 0.4970\n",
            "Epoch 10/120\n",
            "10000/10000 [==============================] - 5s 543us/step - loss: 0.6946 - accuracy: 0.5041 - val_loss: 0.6935 - val_accuracy: 0.4970\n",
            "Epoch 11/120\n",
            "10000/10000 [==============================] - 5s 543us/step - loss: 0.6943 - accuracy: 0.5022 - val_loss: 0.6932 - val_accuracy: 0.5030\n",
            "Epoch 12/120\n",
            "10000/10000 [==============================] - 6s 584us/step - loss: 0.6939 - accuracy: 0.5046 - val_loss: 0.6933 - val_accuracy: 0.5030\n",
            "Epoch 13/120\n",
            "10000/10000 [==============================] - 6s 557us/step - loss: 0.6938 - accuracy: 0.5056 - val_loss: 0.6939 - val_accuracy: 0.4950\n",
            "Epoch 14/120\n",
            "10000/10000 [==============================] - 6s 587us/step - loss: 0.6934 - accuracy: 0.5120 - val_loss: 0.6945 - val_accuracy: 0.4850\n",
            "Epoch 15/120\n",
            "10000/10000 [==============================] - 6s 555us/step - loss: 0.6878 - accuracy: 0.5362 - val_loss: 0.6828 - val_accuracy: 0.5380\n",
            "Epoch 16/120\n",
            "10000/10000 [==============================] - 6s 610us/step - loss: 0.6509 - accuracy: 0.6278 - val_loss: 0.6250 - val_accuracy: 0.6560\n",
            "Epoch 17/120\n",
            "10000/10000 [==============================] - 5s 549us/step - loss: 0.6219 - accuracy: 0.6584 - val_loss: 0.5942 - val_accuracy: 0.6920\n",
            "Epoch 18/120\n",
            "10000/10000 [==============================] - 6s 604us/step - loss: 0.5905 - accuracy: 0.6917 - val_loss: 0.5646 - val_accuracy: 0.7260\n",
            "Epoch 19/120\n",
            "10000/10000 [==============================] - 6s 573us/step - loss: 0.5529 - accuracy: 0.7303 - val_loss: 0.5098 - val_accuracy: 0.7590\n",
            "Epoch 20/120\n",
            "10000/10000 [==============================] - 6s 556us/step - loss: 0.5147 - accuracy: 0.7582 - val_loss: 0.5211 - val_accuracy: 0.7540\n",
            "Epoch 21/120\n",
            "10000/10000 [==============================] - 5s 549us/step - loss: 0.4898 - accuracy: 0.7773 - val_loss: 0.4528 - val_accuracy: 0.8110\n",
            "Epoch 22/120\n",
            "10000/10000 [==============================] - 5s 529us/step - loss: 0.4686 - accuracy: 0.7919 - val_loss: 0.4355 - val_accuracy: 0.8060\n",
            "Epoch 23/120\n",
            "10000/10000 [==============================] - 6s 604us/step - loss: 0.4395 - accuracy: 0.8102 - val_loss: 0.4519 - val_accuracy: 0.8130\n",
            "Epoch 24/120\n",
            "10000/10000 [==============================] - 5s 537us/step - loss: 0.4227 - accuracy: 0.8206 - val_loss: 0.5260 - val_accuracy: 0.7740\n",
            "Epoch 25/120\n",
            "10000/10000 [==============================] - 6s 576us/step - loss: 0.4156 - accuracy: 0.8216 - val_loss: 0.4298 - val_accuracy: 0.7930\n",
            "Epoch 26/120\n",
            "10000/10000 [==============================] - 6s 553us/step - loss: 0.3974 - accuracy: 0.8312 - val_loss: 0.4458 - val_accuracy: 0.8170\n",
            "Epoch 27/120\n",
            "10000/10000 [==============================] - 6s 552us/step - loss: 0.3921 - accuracy: 0.8336 - val_loss: 0.4104 - val_accuracy: 0.8050\n",
            "Epoch 28/120\n",
            "10000/10000 [==============================] - 5s 549us/step - loss: 0.3813 - accuracy: 0.8391 - val_loss: 0.3826 - val_accuracy: 0.8360\n",
            "Epoch 29/120\n",
            "10000/10000 [==============================] - 6s 587us/step - loss: 0.3762 - accuracy: 0.8394 - val_loss: 0.4200 - val_accuracy: 0.8180\n",
            "Epoch 30/120\n",
            "10000/10000 [==============================] - 6s 599us/step - loss: 0.3667 - accuracy: 0.8469 - val_loss: 0.4071 - val_accuracy: 0.8070\n",
            "Epoch 31/120\n",
            "10000/10000 [==============================] - 6s 566us/step - loss: 0.3660 - accuracy: 0.8446 - val_loss: 0.3831 - val_accuracy: 0.8370\n",
            "Epoch 32/120\n",
            "10000/10000 [==============================] - 6s 594us/step - loss: 0.3626 - accuracy: 0.8454 - val_loss: 0.3845 - val_accuracy: 0.8270\n",
            "Epoch 33/120\n",
            "10000/10000 [==============================] - 5s 547us/step - loss: 0.3634 - accuracy: 0.8462 - val_loss: 0.3873 - val_accuracy: 0.8300\n",
            "Epoch 34/120\n",
            "10000/10000 [==============================] - 6s 576us/step - loss: 0.3494 - accuracy: 0.8540 - val_loss: 0.3809 - val_accuracy: 0.8210\n",
            "Epoch 35/120\n",
            "10000/10000 [==============================] - 6s 555us/step - loss: 0.3487 - accuracy: 0.8513 - val_loss: 0.3717 - val_accuracy: 0.8340\n",
            "Epoch 36/120\n",
            "10000/10000 [==============================] - 6s 586us/step - loss: 0.3427 - accuracy: 0.8520 - val_loss: 0.3767 - val_accuracy: 0.8380\n",
            "Epoch 37/120\n",
            "10000/10000 [==============================] - 6s 603us/step - loss: 0.3427 - accuracy: 0.8542 - val_loss: 0.4060 - val_accuracy: 0.8070\n",
            "Epoch 38/120\n",
            "10000/10000 [==============================] - 6s 553us/step - loss: 0.3395 - accuracy: 0.8534 - val_loss: 0.3744 - val_accuracy: 0.8330\n",
            "Epoch 39/120\n",
            "10000/10000 [==============================] - 6s 601us/step - loss: 0.3353 - accuracy: 0.8564 - val_loss: 0.3772 - val_accuracy: 0.8370\n",
            "Epoch 40/120\n",
            "10000/10000 [==============================] - 6s 590us/step - loss: 0.3377 - accuracy: 0.8534 - val_loss: 0.3704 - val_accuracy: 0.8320\n",
            "Epoch 41/120\n",
            "10000/10000 [==============================] - 6s 585us/step - loss: 0.3302 - accuracy: 0.8586 - val_loss: 0.4029 - val_accuracy: 0.8260\n",
            "Epoch 42/120\n",
            "10000/10000 [==============================] - 6s 564us/step - loss: 0.3313 - accuracy: 0.8583 - val_loss: 0.3964 - val_accuracy: 0.8280\n",
            "Epoch 43/120\n",
            "10000/10000 [==============================] - 6s 569us/step - loss: 0.3275 - accuracy: 0.8605 - val_loss: 0.3840 - val_accuracy: 0.8310\n",
            "Epoch 44/120\n",
            "10000/10000 [==============================] - 6s 567us/step - loss: 0.3287 - accuracy: 0.8570 - val_loss: 0.3718 - val_accuracy: 0.8360\n",
            "Epoch 45/120\n",
            "10000/10000 [==============================] - 5s 543us/step - loss: 0.3216 - accuracy: 0.8623 - val_loss: 0.3728 - val_accuracy: 0.8440\n",
            "Epoch 46/120\n",
            "10000/10000 [==============================] - 6s 564us/step - loss: 0.3223 - accuracy: 0.8608 - val_loss: 0.3788 - val_accuracy: 0.8170\n",
            "Epoch 47/120\n",
            "10000/10000 [==============================] - 6s 553us/step - loss: 0.3189 - accuracy: 0.8645 - val_loss: 0.3620 - val_accuracy: 0.8370\n",
            "Epoch 48/120\n",
            "10000/10000 [==============================] - 5s 539us/step - loss: 0.3170 - accuracy: 0.8633 - val_loss: 0.3703 - val_accuracy: 0.8400\n",
            "Epoch 49/120\n",
            "10000/10000 [==============================] - 5s 546us/step - loss: 0.3183 - accuracy: 0.8643 - val_loss: 0.3709 - val_accuracy: 0.8390\n",
            "Epoch 50/120\n",
            "10000/10000 [==============================] - 6s 583us/step - loss: 0.3136 - accuracy: 0.8631 - val_loss: 0.3615 - val_accuracy: 0.8420\n",
            "Epoch 51/120\n",
            "10000/10000 [==============================] - 6s 556us/step - loss: 0.3098 - accuracy: 0.8658 - val_loss: 0.3628 - val_accuracy: 0.8370\n",
            "Epoch 52/120\n",
            "10000/10000 [==============================] - 5s 544us/step - loss: 0.3091 - accuracy: 0.8657 - val_loss: 0.3585 - val_accuracy: 0.8430\n",
            "Epoch 53/120\n",
            "10000/10000 [==============================] - 5s 541us/step - loss: 0.3083 - accuracy: 0.8644 - val_loss: 0.3705 - val_accuracy: 0.8350\n",
            "Epoch 54/120\n",
            "10000/10000 [==============================] - 6s 580us/step - loss: 0.3063 - accuracy: 0.8691 - val_loss: 0.3646 - val_accuracy: 0.8340\n",
            "Epoch 55/120\n",
            "10000/10000 [==============================] - 6s 569us/step - loss: 0.3033 - accuracy: 0.8666 - val_loss: 0.3552 - val_accuracy: 0.8400\n",
            "Epoch 56/120\n",
            "10000/10000 [==============================] - 6s 554us/step - loss: 0.3066 - accuracy: 0.8683 - val_loss: 0.3620 - val_accuracy: 0.8430\n",
            "Epoch 57/120\n",
            "10000/10000 [==============================] - 6s 556us/step - loss: 0.3031 - accuracy: 0.8660 - val_loss: 0.3577 - val_accuracy: 0.8430\n",
            "Epoch 58/120\n",
            "10000/10000 [==============================] - 5s 540us/step - loss: 0.3030 - accuracy: 0.8671 - val_loss: 0.3695 - val_accuracy: 0.8390\n",
            "Epoch 59/120\n",
            "10000/10000 [==============================] - 6s 581us/step - loss: 0.3011 - accuracy: 0.8695 - val_loss: 0.3751 - val_accuracy: 0.8370\n",
            "Epoch 60/120\n",
            "10000/10000 [==============================] - 6s 587us/step - loss: 0.3001 - accuracy: 0.8701 - val_loss: 0.3697 - val_accuracy: 0.8420\n",
            "Epoch 61/120\n",
            "10000/10000 [==============================] - 6s 577us/step - loss: 0.3007 - accuracy: 0.8706 - val_loss: 0.3722 - val_accuracy: 0.8390\n",
            "Epoch 62/120\n",
            "10000/10000 [==============================] - 6s 596us/step - loss: 0.2934 - accuracy: 0.8701 - val_loss: 0.3609 - val_accuracy: 0.8380\n",
            "Epoch 63/120\n",
            "10000/10000 [==============================] - 6s 569us/step - loss: 0.2928 - accuracy: 0.8755 - val_loss: 0.3659 - val_accuracy: 0.8450\n",
            "Epoch 64/120\n",
            "10000/10000 [==============================] - 6s 570us/step - loss: 0.2881 - accuracy: 0.8775 - val_loss: 0.3651 - val_accuracy: 0.8430\n",
            "Epoch 65/120\n",
            "10000/10000 [==============================] - 6s 574us/step - loss: 0.2868 - accuracy: 0.8777 - val_loss: 0.3766 - val_accuracy: 0.8380\n",
            "Epoch 66/120\n",
            "10000/10000 [==============================] - 5s 549us/step - loss: 0.2866 - accuracy: 0.8746 - val_loss: 0.3836 - val_accuracy: 0.8430\n",
            "Epoch 67/120\n",
            "10000/10000 [==============================] - 5s 545us/step - loss: 0.2847 - accuracy: 0.8780 - val_loss: 0.3625 - val_accuracy: 0.8400\n",
            "Epoch 68/120\n",
            "10000/10000 [==============================] - 5s 548us/step - loss: 0.2873 - accuracy: 0.8774 - val_loss: 0.3793 - val_accuracy: 0.8300\n",
            "Epoch 69/120\n",
            "10000/10000 [==============================] - 6s 580us/step - loss: 0.2824 - accuracy: 0.8780 - val_loss: 0.3767 - val_accuracy: 0.8460\n",
            "Epoch 70/120\n",
            "10000/10000 [==============================] - 6s 565us/step - loss: 0.2766 - accuracy: 0.8844 - val_loss: 0.4002 - val_accuracy: 0.8350\n",
            "Epoch 71/120\n",
            "10000/10000 [==============================] - 6s 554us/step - loss: 0.2785 - accuracy: 0.8842 - val_loss: 0.3779 - val_accuracy: 0.8380\n",
            "Epoch 72/120\n",
            "10000/10000 [==============================] - 6s 570us/step - loss: 0.2793 - accuracy: 0.8808 - val_loss: 0.3790 - val_accuracy: 0.8410\n",
            "Epoch 73/120\n",
            "10000/10000 [==============================] - 6s 568us/step - loss: 0.2779 - accuracy: 0.8817 - val_loss: 0.3841 - val_accuracy: 0.8420\n",
            "Epoch 74/120\n",
            "10000/10000 [==============================] - 6s 551us/step - loss: 0.2786 - accuracy: 0.8796 - val_loss: 0.3735 - val_accuracy: 0.8460\n",
            "Epoch 75/120\n",
            "10000/10000 [==============================] - 6s 556us/step - loss: 0.2758 - accuracy: 0.8847 - val_loss: 0.3760 - val_accuracy: 0.8380\n",
            "Epoch 76/120\n",
            "10000/10000 [==============================] - 6s 569us/step - loss: 0.2735 - accuracy: 0.8834 - val_loss: 0.3864 - val_accuracy: 0.8400\n",
            "Epoch 77/120\n",
            "10000/10000 [==============================] - 6s 568us/step - loss: 0.2698 - accuracy: 0.8874 - val_loss: 0.3836 - val_accuracy: 0.8380\n",
            "Epoch 78/120\n",
            "10000/10000 [==============================] - 6s 560us/step - loss: 0.2712 - accuracy: 0.8870 - val_loss: 0.3766 - val_accuracy: 0.8360\n",
            "Epoch 79/120\n",
            "10000/10000 [==============================] - 6s 560us/step - loss: 0.2672 - accuracy: 0.8858 - val_loss: 0.3889 - val_accuracy: 0.8460\n",
            "Epoch 80/120\n",
            "10000/10000 [==============================] - 6s 582us/step - loss: 0.2622 - accuracy: 0.8876 - val_loss: 0.4079 - val_accuracy: 0.8320\n",
            "Epoch 81/120\n",
            "10000/10000 [==============================] - 6s 597us/step - loss: 0.2594 - accuracy: 0.8884 - val_loss: 0.4323 - val_accuracy: 0.8430\n",
            "Epoch 82/120\n",
            "10000/10000 [==============================] - 6s 577us/step - loss: 0.2614 - accuracy: 0.8861 - val_loss: 0.4068 - val_accuracy: 0.8440\n",
            "Epoch 83/120\n",
            "10000/10000 [==============================] - 5s 546us/step - loss: 0.2589 - accuracy: 0.8894 - val_loss: 0.4081 - val_accuracy: 0.8340\n",
            "Epoch 84/120\n",
            "10000/10000 [==============================] - 6s 588us/step - loss: 0.2597 - accuracy: 0.8875 - val_loss: 0.4146 - val_accuracy: 0.8400\n",
            "Epoch 85/120\n",
            "10000/10000 [==============================] - 6s 551us/step - loss: 0.2541 - accuracy: 0.8931 - val_loss: 0.4366 - val_accuracy: 0.8420\n",
            "Epoch 86/120\n",
            "10000/10000 [==============================] - 6s 605us/step - loss: 0.2516 - accuracy: 0.8925 - val_loss: 0.4440 - val_accuracy: 0.8370\n",
            "Epoch 87/120\n",
            "10000/10000 [==============================] - 6s 595us/step - loss: 0.2504 - accuracy: 0.8952 - val_loss: 0.4226 - val_accuracy: 0.8400\n",
            "Epoch 88/120\n",
            "10000/10000 [==============================] - 6s 552us/step - loss: 0.2547 - accuracy: 0.8910 - val_loss: 0.4170 - val_accuracy: 0.8240\n",
            "Epoch 89/120\n",
            "10000/10000 [==============================] - 6s 603us/step - loss: 0.2558 - accuracy: 0.8902 - val_loss: 0.4273 - val_accuracy: 0.8390\n",
            "Epoch 90/120\n",
            "10000/10000 [==============================] - 6s 637us/step - loss: 0.2522 - accuracy: 0.8933 - val_loss: 0.4414 - val_accuracy: 0.8400\n",
            "Epoch 91/120\n",
            "10000/10000 [==============================] - 6s 582us/step - loss: 0.2491 - accuracy: 0.8944 - val_loss: 0.4459 - val_accuracy: 0.8300\n",
            "Epoch 92/120\n",
            "10000/10000 [==============================] - 6s 580us/step - loss: 0.2490 - accuracy: 0.8938 - val_loss: 0.4497 - val_accuracy: 0.8370\n",
            "Epoch 93/120\n",
            "10000/10000 [==============================] - 6s 596us/step - loss: 0.2437 - accuracy: 0.8950 - val_loss: 0.4434 - val_accuracy: 0.8310\n",
            "Epoch 94/120\n",
            "10000/10000 [==============================] - 6s 637us/step - loss: 0.2474 - accuracy: 0.8941 - val_loss: 0.4292 - val_accuracy: 0.8290\n",
            "Epoch 95/120\n",
            "10000/10000 [==============================] - 6s 599us/step - loss: 0.2491 - accuracy: 0.8936 - val_loss: 0.4359 - val_accuracy: 0.8230\n",
            "Epoch 96/120\n",
            "10000/10000 [==============================] - 6s 593us/step - loss: 0.2414 - accuracy: 0.8996 - val_loss: 0.4440 - val_accuracy: 0.8400\n",
            "Epoch 97/120\n",
            "10000/10000 [==============================] - 6s 590us/step - loss: 0.2443 - accuracy: 0.8962 - val_loss: 0.4184 - val_accuracy: 0.8410\n",
            "Epoch 98/120\n",
            "10000/10000 [==============================] - 6s 601us/step - loss: 0.2478 - accuracy: 0.8965 - val_loss: 0.4336 - val_accuracy: 0.8300\n",
            "Epoch 99/120\n",
            "10000/10000 [==============================] - 6s 616us/step - loss: 0.2365 - accuracy: 0.8981 - val_loss: 0.4212 - val_accuracy: 0.8280\n",
            "Epoch 100/120\n",
            "10000/10000 [==============================] - 6s 571us/step - loss: 0.2410 - accuracy: 0.9007 - val_loss: 0.4532 - val_accuracy: 0.8290\n",
            "Epoch 101/120\n",
            "10000/10000 [==============================] - 6s 581us/step - loss: 0.2390 - accuracy: 0.8988 - val_loss: 0.4517 - val_accuracy: 0.8390\n",
            "Epoch 102/120\n",
            "10000/10000 [==============================] - 6s 571us/step - loss: 0.2366 - accuracy: 0.8991 - val_loss: 0.4418 - val_accuracy: 0.8260\n",
            "Epoch 103/120\n",
            "10000/10000 [==============================] - 6s 573us/step - loss: 0.2331 - accuracy: 0.9016 - val_loss: 0.4343 - val_accuracy: 0.8170\n",
            "Epoch 104/120\n",
            "10000/10000 [==============================] - 6s 604us/step - loss: 0.2347 - accuracy: 0.9024 - val_loss: 0.4620 - val_accuracy: 0.8390\n",
            "Epoch 105/120\n",
            "10000/10000 [==============================] - 6s 588us/step - loss: 0.2307 - accuracy: 0.9026 - val_loss: 0.4449 - val_accuracy: 0.8310\n",
            "Epoch 106/120\n",
            "10000/10000 [==============================] - 6s 600us/step - loss: 0.2213 - accuracy: 0.9046 - val_loss: 0.4553 - val_accuracy: 0.8370\n",
            "Epoch 107/120\n",
            "10000/10000 [==============================] - 6s 604us/step - loss: 0.2296 - accuracy: 0.9021 - val_loss: 0.4626 - val_accuracy: 0.8310\n",
            "Epoch 108/120\n",
            "10000/10000 [==============================] - 6s 614us/step - loss: 0.2282 - accuracy: 0.9065 - val_loss: 0.4694 - val_accuracy: 0.8260\n",
            "Epoch 109/120\n",
            "10000/10000 [==============================] - 6s 557us/step - loss: 0.2284 - accuracy: 0.9045 - val_loss: 0.4567 - val_accuracy: 0.8320\n",
            "Epoch 110/120\n",
            "10000/10000 [==============================] - 6s 562us/step - loss: 0.2231 - accuracy: 0.9054 - val_loss: 0.5040 - val_accuracy: 0.8380\n",
            "Epoch 111/120\n",
            "10000/10000 [==============================] - 6s 568us/step - loss: 0.2225 - accuracy: 0.9087 - val_loss: 0.4787 - val_accuracy: 0.8210\n",
            "Epoch 112/120\n",
            "10000/10000 [==============================] - 6s 593us/step - loss: 0.2221 - accuracy: 0.9074 - val_loss: 0.4892 - val_accuracy: 0.8290\n",
            "Epoch 113/120\n",
            "10000/10000 [==============================] - 6s 574us/step - loss: 0.2244 - accuracy: 0.9074 - val_loss: 0.4770 - val_accuracy: 0.8250\n",
            "Epoch 114/120\n",
            "10000/10000 [==============================] - 6s 588us/step - loss: 0.2235 - accuracy: 0.9073 - val_loss: 0.4885 - val_accuracy: 0.8250\n",
            "Epoch 115/120\n",
            "10000/10000 [==============================] - 6s 573us/step - loss: 0.2205 - accuracy: 0.9079 - val_loss: 0.4790 - val_accuracy: 0.8290\n",
            "Epoch 116/120\n",
            "10000/10000 [==============================] - 6s 575us/step - loss: 0.2220 - accuracy: 0.9063 - val_loss: 0.4765 - val_accuracy: 0.8260\n",
            "Epoch 117/120\n",
            "10000/10000 [==============================] - 5s 544us/step - loss: 0.2149 - accuracy: 0.9152 - val_loss: 0.4662 - val_accuracy: 0.8200\n",
            "Epoch 118/120\n",
            "10000/10000 [==============================] - 6s 585us/step - loss: 0.2153 - accuracy: 0.9121 - val_loss: 0.4923 - val_accuracy: 0.8250\n",
            "Epoch 119/120\n",
            "10000/10000 [==============================] - 5s 548us/step - loss: 0.2217 - accuracy: 0.9054 - val_loss: 0.5248 - val_accuracy: 0.8240\n",
            "Epoch 120/120\n",
            "10000/10000 [==============================] - 5s 548us/step - loss: 0.2148 - accuracy: 0.9105 - val_loss: 0.4881 - val_accuracy: 0.8150\n"
          ],
          "name": "stdout"
        }
      ]
    },
    {
      "cell_type": "code",
      "metadata": {
        "id": "je8OMsMzU2wH",
        "colab_type": "code",
        "colab": {
          "base_uri": "https://localhost:8080/",
          "height": 312
        },
        "outputId": "182d7426-59dc-44f5-bc40-f0f184404395"
      },
      "source": [
        "# Plotting the training\n",
        "\n",
        "import matplotlib.pyplot as plt\n",
        "%matplotlib inline\n",
        "print(history.history.keys())\n",
        "# summarize history for accuracy\n",
        "plt.plot(history.history['accuracy'])\n",
        "plt.plot(history.history['val_accuracy'])\n",
        "plt.title('model accuracy')\n",
        "plt.ylabel('accuracy')\n",
        "plt.xlabel('epoch')\n",
        "plt.legend(['train', 'test'], loc='upper left')\n",
        "plt.show()"
      ],
      "execution_count": 65,
      "outputs": [
        {
          "output_type": "stream",
          "text": [
            "dict_keys(['val_loss', 'val_accuracy', 'loss', 'accuracy'])\n"
          ],
          "name": "stdout"
        },
        {
          "output_type": "display_data",
          "data": {
            "image/png": "[encoded data removed]",
            "text/plain": [
              "<Figure size 432x288 with 1 Axes>"
            ]
          },
          "metadata": {
            "tags": [],
            "needs_background": "light"
          }
        }
      ]
    },
    {
      "cell_type": "code",
      "metadata": {
        "id": "jriX5ucbWSr8",
        "colab_type": "code",
        "colab": {}
      },
      "source": [
        "# Test data evaluation\n",
        "\n",
        "pred_results = model.predict(([inputs_test, queries_test]))"
      ],
      "execution_count": 0,
      "outputs": []
    },
    {
      "cell_type": "code",
      "metadata": {
        "id": "JdS1shBqWkUR",
        "colab_type": "code",
        "colab": {
          "base_uri": "https://localhost:8080/",
          "height": 67
        },
        "outputId": "f3763a0f-629d-4afa-9f6a-e31f9fb808cf"
      },
      "source": [
        "story =' '.join(word for word in test_data[0][0])\n",
        "print(\"Story: \",story)\n",
        "query = ' '.join(word for word in test_data[0][1])\n",
        "print(\"Question: \",query)\n",
        "print(\"True Test Answer from Data is:\",test_data[0][2])"
      ],
      "execution_count": 67,
      "outputs": [
        {
          "output_type": "stream",
          "text": [
            "Story:  Mary got the milk there . John moved to the bedroom .\n",
            "Question:  Is John in the kitchen ?\n",
            "True Test Answer from Data is: no\n"
          ],
          "name": "stdout"
        }
      ]
    },
    {
      "cell_type": "code",
      "metadata": {
        "id": "9FjqqudgWpL0",
        "colab_type": "code",
        "colab": {
          "base_uri": "https://localhost:8080/",
          "height": 50
        },
        "outputId": "33510ba8-e2a6-452a-a964-31d9a155f66f"
      },
      "source": [
        "#Generate prediction from model\n",
        "val_max = np.argmax(pred_results[0])\n",
        "\n",
        "for key, val in tokenizer.word_index.items():\n",
        "    if val == val_max:\n",
        "        k = key\n",
        "\n",
        "print(\"Predicted answer is: \", k)\n",
        "print(\"Probability of certainty was: \", pred_results[0][val_max])"
      ],
      "execution_count": 68,
      "outputs": [
        {
          "output_type": "stream",
          "text": [
            "Predicted answer is:  no\n",
            "Probability of certainty was:  0.99996257\n"
          ],
          "name": "stdout"
        }
      ]
    },
    {
      "cell_type": "code",
      "metadata": {
        "id": "ij_xTNuXWsbO",
        "colab_type": "code",
        "colab": {
          "base_uri": "https://localhost:8080/",
          "height": 638
        },
        "outputId": "58ab7122-f465-4e44-bab1-48a3e2b0d4f0"
      },
      "source": [
        "# Let's write our own story\n",
        "# Let's check the Vocabulary to choose correct words\n",
        "vocab"
      ],
      "execution_count": 69,
      "outputs": [
        {
          "output_type": "execute_result",
          "data": {
            "text/plain": [
              "{'.',\n",
              " '?',\n",
              " 'Daniel',\n",
              " 'Is',\n",
              " 'John',\n",
              " 'Mary',\n",
              " 'Sandra',\n",
              " 'apple',\n",
              " 'back',\n",
              " 'bathroom',\n",
              " 'bedroom',\n",
              " 'discarded',\n",
              " 'down',\n",
              " 'dropped',\n",
              " 'football',\n",
              " 'garden',\n",
              " 'got',\n",
              " 'grabbed',\n",
              " 'hallway',\n",
              " 'in',\n",
              " 'journeyed',\n",
              " 'kitchen',\n",
              " 'left',\n",
              " 'milk',\n",
              " 'moved',\n",
              " 'no',\n",
              " 'office',\n",
              " 'picked',\n",
              " 'put',\n",
              " 'the',\n",
              " 'there',\n",
              " 'to',\n",
              " 'took',\n",
              " 'travelled',\n",
              " 'up',\n",
              " 'went',\n",
              " 'yes'}"
            ]
          },
          "metadata": {
            "tags": []
          },
          "execution_count": 69
        }
      ]
    },
    {
      "cell_type": "code",
      "metadata": {
        "id": "96v3q04SW8Db",
        "colab_type": "code",
        "colab": {
          "base_uri": "https://localhost:8080/",
          "height": 235
        },
        "outputId": "61833386-9945-417d-8ffa-98cec7af6105"
      },
      "source": [
        "# Note the whitespace of the periods as I told you before.\n",
        "my_story = \"John left the kitchen . Sandra dropped the football in the garden .\"\n",
        "my_story.split()"
      ],
      "execution_count": 70,
      "outputs": [
        {
          "output_type": "execute_result",
          "data": {
            "text/plain": [
              "['John',\n",
              " 'left',\n",
              " 'the',\n",
              " 'kitchen',\n",
              " '.',\n",
              " 'Sandra',\n",
              " 'dropped',\n",
              " 'the',\n",
              " 'football',\n",
              " 'in',\n",
              " 'the',\n",
              " 'garden',\n",
              " '.']"
            ]
          },
          "metadata": {
            "tags": []
          },
          "execution_count": 70
        }
      ]
    },
    {
      "cell_type": "code",
      "metadata": {
        "id": "qxBlEZeTXF06",
        "colab_type": "code",
        "colab": {}
      },
      "source": [
        "# Note that period is considered as seperate token as in training set. This is the reason for that space."
      ],
      "execution_count": 0,
      "outputs": []
    },
    {
      "cell_type": "code",
      "metadata": {
        "id": "9ca4ahOEXN7y",
        "colab_type": "code",
        "colab": {}
      },
      "source": [
        "my_question = \"Is the football in the garden ?\""
      ],
      "execution_count": 0,
      "outputs": []
    },
    {
      "cell_type": "code",
      "metadata": {
        "id": "f3LMMtJLXNy8",
        "colab_type": "code",
        "colab": {
          "base_uri": "https://localhost:8080/",
          "height": 34
        },
        "outputId": "5f7c7c9e-a400-4d66-bae9-9f8b61187f5e"
      },
      "source": [
        "my_question.split()"
      ],
      "execution_count": 73,
      "outputs": [
        {
          "output_type": "execute_result",
          "data": {
            "text/plain": [
              "['Is', 'the', 'football', 'in', 'the', 'garden', '?']"
            ]
          },
          "metadata": {
            "tags": []
          },
          "execution_count": 73
        }
      ]
    },
    {
      "cell_type": "code",
      "metadata": {
        "id": "PYOT11ePXSDD",
        "colab_type": "code",
        "colab": {}
      },
      "source": [
        "# Same logic for this question mark too."
      ],
      "execution_count": 0,
      "outputs": []
    },
    {
      "cell_type": "code",
      "metadata": {
        "id": "D3b_uUcRXW_Z",
        "colab_type": "code",
        "colab": {}
      },
      "source": [
        "mydata = [(my_story.split(),my_question.split(),'yes')]"
      ],
      "execution_count": 0,
      "outputs": []
    },
    {
      "cell_type": "code",
      "metadata": {
        "id": "hO-X-3-6Xaik",
        "colab_type": "code",
        "colab": {}
      },
      "source": [
        "my_story,my_ques,my_ans = vectorize_stories(mydata)"
      ],
      "execution_count": 0,
      "outputs": []
    },
    {
      "cell_type": "code",
      "metadata": {
        "id": "F9XswDZZXcgS",
        "colab_type": "code",
        "colab": {}
      },
      "source": [
        "pred_results = model.predict(([ my_story, my_ques]))"
      ],
      "execution_count": 0,
      "outputs": []
    },
    {
      "cell_type": "code",
      "metadata": {
        "id": "2zCyUxbCXeRd",
        "colab_type": "code",
        "colab": {
          "base_uri": "https://localhost:8080/",
          "height": 50
        },
        "outputId": "9a9f55df-c61e-428c-cf20-49f79cf30d1f"
      },
      "source": [
        "#Generate prediction from model\n",
        "val_max = np.argmax(pred_results[0])\n",
        "\n",
        "for key, val in tokenizer.word_index.items():\n",
        "    if val == val_max:\n",
        "        k = key\n",
        "\n",
        "print(\"Predicted answer is: \", k)\n",
        "print(\"Probability of certainty was: \", pred_results[0][val_max])"
      ],
      "execution_count": 78,
      "outputs": [
        {
          "output_type": "stream",
          "text": [
            "Predicted answer is:  no\n",
            "Probability of certainty was:  0.9224698\n"
          ],
          "name": "stdout"
        }
      ]
    },
    {
      "cell_type": "code",
      "metadata": {
        "id": "BaA5RqBFX-h6",
        "colab_type": "code",
        "colab": {}
      },
      "source": [
        "# Thanks for reading my article. Have a great day."
      ],
      "execution_count": 0,
      "outputs": []
    },
    {
      "cell_type": "code",
      "metadata": {
        "id": "iJQOTU5HYIJq",
        "colab_type": "code",
        "colab": {}
      },
      "source": [
        ""
      ],
      "execution_count": 0,
      "outputs": []
    }
  ]
}