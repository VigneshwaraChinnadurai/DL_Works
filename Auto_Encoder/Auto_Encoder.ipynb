{
  "nbformat": 4,
  "nbformat_minor": 0,
  "metadata": {
    "colab": {
      "name": "Auto_Encoder.ipynb",
      "provenance": [],
      "authorship_tag": "ABX9TyMai8ZjIpc27BU3ZFaSV1s2",
      "include_colab_link": true
    },
    "kernelspec": {
      "name": "python3",
      "display_name": "Python 3"
    },
    "accelerator": "GPU"
  },
  "cells": [
    {
      "cell_type": "markdown",
      "metadata": {
        "id": "view-in-github",
        "colab_type": "text"
      },
      "source": [
        "<a href=\"https://colab.research.google.com/github/VigneshwaraChinnadurai/DL_Works/blob/master/Auto_Encoder/Auto_Encoder.ipynb\" target=\"_parent\"><img src=\"https://colab.research.google.com/assets/colab-badge.svg\" alt=\"Open In Colab\"/></a>"
      ]
    },
    {
      "cell_type": "code",
      "metadata": {
        "id": "KTTfHu8kqbY4",
        "colab_type": "code",
        "colab": {}
      },
      "source": [
        "# Importing the libraries\n",
        "import numpy as np\n",
        "import pandas as pd\n",
        "import torch\n",
        "import torch.nn as nn\n",
        "import torch.nn.parallel\n",
        "import torch.optim as optim\n",
        "import torch.utils.data\n",
        "from torch.autograd import Variable"
      ],
      "execution_count": 0,
      "outputs": []
    },
    {
      "cell_type": "code",
      "metadata": {
        "id": "Kakztc1eqgI4",
        "colab_type": "code",
        "colab": {
          "base_uri": "https://localhost:8080/",
          "height": 34
        },
        "outputId": "f3119434-ec3c-40e7-90ad-c9549aa215d2"
      },
      "source": [
        "torch.cuda.is_available()"
      ],
      "execution_count": 2,
      "outputs": [
        {
          "output_type": "execute_result",
          "data": {
            "text/plain": [
              "True"
            ]
          },
          "metadata": {
            "tags": []
          },
          "execution_count": 2
        }
      ]
    },
    {
      "cell_type": "code",
      "metadata": {
        "id": "90uP8yz7qiGs",
        "colab_type": "code",
        "colab": {
          "base_uri": "https://localhost:8080/",
          "height": 34
        },
        "outputId": "97047ea1-4635-4a54-920c-102414814ade"
      },
      "source": [
        "torch.cuda.get_device_name(0)"
      ],
      "execution_count": 3,
      "outputs": [
        {
          "output_type": "execute_result",
          "data": {
            "text/plain": [
              "'Tesla K80'"
            ]
          },
          "metadata": {
            "tags": []
          },
          "execution_count": 3
        }
      ]
    },
    {
      "cell_type": "code",
      "metadata": {
        "id": "0D2mp8ABqkDj",
        "colab_type": "code",
        "colab": {}
      },
      "source": [
        "# This is just to import from G-Drive\n",
        "\n",
        "#STEP-1: Install Import Libraries\n",
        "!pip install -U -q PyDrive\n",
        "from pydrive.auth import GoogleAuth\n",
        "from pydrive.drive import GoogleDrive\n",
        "from google.colab import auth\n",
        "from oauth2client.client import GoogleCredentials\n",
        "\n",
        "#STEP-2: Autheticate E-Mail ID\n",
        "\n",
        "auth.authenticate_user()\n",
        "gauth = GoogleAuth()\n",
        "gauth.credentials = GoogleCredentials.get_application_default()\n",
        "drive = GoogleDrive(gauth)\n",
        "\n",
        "#STEP-3: Get File from Drive using file-ID\n",
        "\n",
        "#2.1 Get the file\n",
        "downloaded = drive.CreateFile({'id':'1lHnYashy9uWRqyPAFShZ5XGcYNGi09k9'})\n",
        "# replace the id with id of file you want to access\n",
        "downloaded.GetContentFile('u1.base') \n",
        "\n",
        "#2.1 Get the file\n",
        "downloaded = drive.CreateFile({'id':'14VX5_lWUH0TjciBsgxcwS2U7R9dm-Gpa'})\n",
        "# replace the id with id of file you want to access\n",
        "downloaded.GetContentFile('u1.test') "
      ],
      "execution_count": 0,
      "outputs": []
    },
    {
      "cell_type": "code",
      "metadata": {
        "id": "KT6uuuK-qlve",
        "colab_type": "code",
        "colab": {}
      },
      "source": [
        "# Preparing the training set and the test set\n",
        "training_set = pd.read_csv('u1.base', delimiter = '\\t')\n",
        "training_set = np.array(training_set, dtype = 'int')\n",
        "test_set = pd.read_csv('u1.test', delimiter = '\\t')\n",
        "test_set = np.array(test_set, dtype = 'int')"
      ],
      "execution_count": 0,
      "outputs": []
    },
    {
      "cell_type": "code",
      "metadata": {
        "id": "C4wJA2pBqnNG",
        "colab_type": "code",
        "colab": {
          "base_uri": "https://localhost:8080/",
          "height": 34
        },
        "outputId": "487cb3ee-10bd-47b3-f2c0-67a2f8fae515"
      },
      "source": [
        "type(training_set)"
      ],
      "execution_count": 6,
      "outputs": [
        {
          "output_type": "execute_result",
          "data": {
            "text/plain": [
              "numpy.ndarray"
            ]
          },
          "metadata": {
            "tags": []
          },
          "execution_count": 6
        }
      ]
    },
    {
      "cell_type": "code",
      "metadata": {
        "id": "ss7CtgQpqon-",
        "colab_type": "code",
        "colab": {
          "base_uri": "https://localhost:8080/",
          "height": 34
        },
        "outputId": "c07030ee-19a5-49b0-8623-e449f3d31c16"
      },
      "source": [
        "len(training_set)"
      ],
      "execution_count": 7,
      "outputs": [
        {
          "output_type": "execute_result",
          "data": {
            "text/plain": [
              "79999"
            ]
          },
          "metadata": {
            "tags": []
          },
          "execution_count": 7
        }
      ]
    },
    {
      "cell_type": "code",
      "metadata": {
        "id": "8NGTkCD8qp8s",
        "colab_type": "code",
        "colab": {
          "base_uri": "https://localhost:8080/",
          "height": 34
        },
        "outputId": "109a5aed-0188-47bc-b3d4-d665b5079bf6"
      },
      "source": [
        "len(test_set)"
      ],
      "execution_count": 8,
      "outputs": [
        {
          "output_type": "execute_result",
          "data": {
            "text/plain": [
              "19999"
            ]
          },
          "metadata": {
            "tags": []
          },
          "execution_count": 8
        }
      ]
    },
    {
      "cell_type": "code",
      "metadata": {
        "id": "g5zNSEP0qrxd",
        "colab_type": "code",
        "colab": {
          "base_uri": "https://localhost:8080/",
          "height": 34
        },
        "outputId": "04ccbdfb-9198-48da-913d-18dbff82f38b"
      },
      "source": [
        "training_set.shape"
      ],
      "execution_count": 9,
      "outputs": [
        {
          "output_type": "execute_result",
          "data": {
            "text/plain": [
              "(79999, 4)"
            ]
          },
          "metadata": {
            "tags": []
          },
          "execution_count": 9
        }
      ]
    },
    {
      "cell_type": "code",
      "metadata": {
        "id": "SlhM550Qqtx2",
        "colab_type": "code",
        "colab": {}
      },
      "source": [
        "# Getting the number of users and movies\n",
        "nb_users = int(max(max(training_set[:,0]), max(test_set[:,0])))\n",
        "nb_movies = int(max(max(training_set[:,1]), max(test_set[:,1])))"
      ],
      "execution_count": 0,
      "outputs": []
    },
    {
      "cell_type": "code",
      "metadata": {
        "id": "xcts1yNyqvS1",
        "colab_type": "code",
        "colab": {
          "base_uri": "https://localhost:8080/",
          "height": 50
        },
        "outputId": "79928a78-2b96-4808-d5e0-d33dd2671c22"
      },
      "source": [
        "print(f'Total no of Users={nb_users}')\n",
        "print(f'Movie Count={nb_movies}')"
      ],
      "execution_count": 11,
      "outputs": [
        {
          "output_type": "stream",
          "text": [
            "Total no of Users=943\n",
            "Movie Count=1682\n"
          ],
          "name": "stdout"
        }
      ]
    },
    {
      "cell_type": "code",
      "metadata": {
        "id": "QmfU-8bCqxtF",
        "colab_type": "code",
        "colab": {}
      },
      "source": [
        "# Converting the data into an array with users in lines and movies in columns (Like tokenization in NLP)\n",
        "def convert(data):\n",
        "    new_data = []\n",
        "    for id_users in range(1, nb_users + 1):\n",
        "        id_movies = data[:,1][data[:,0] == id_users]\n",
        "        id_ratings = data[:,2][data[:,0] == id_users]\n",
        "        ratings = np.zeros(nb_movies)\n",
        "        ratings[id_movies - 1] = id_ratings\n",
        "        new_data.append(list(ratings))\n",
        "    return new_data\n",
        "training_set = convert(training_set)\n",
        "test_set = convert(test_set)"
      ],
      "execution_count": 0,
      "outputs": []
    },
    {
      "cell_type": "code",
      "metadata": {
        "id": "JyrbpuC7qzOd",
        "colab_type": "code",
        "colab": {
          "base_uri": "https://localhost:8080/",
          "height": 34
        },
        "outputId": "4a96da9e-9d53-4b40-de27-f26122f47b64"
      },
      "source": [
        "len(training_set)"
      ],
      "execution_count": 13,
      "outputs": [
        {
          "output_type": "execute_result",
          "data": {
            "text/plain": [
              "943"
            ]
          },
          "metadata": {
            "tags": []
          },
          "execution_count": 13
        }
      ]
    },
    {
      "cell_type": "code",
      "metadata": {
        "id": "sk0ztp8Aq0-d",
        "colab_type": "code",
        "colab": {
          "base_uri": "https://localhost:8080/",
          "height": 34
        },
        "outputId": "6851e51b-daab-47d4-cf74-8a6cff17abe4"
      },
      "source": [
        "len(training_set[0])"
      ],
      "execution_count": 14,
      "outputs": [
        {
          "output_type": "execute_result",
          "data": {
            "text/plain": [
              "1682"
            ]
          },
          "metadata": {
            "tags": []
          },
          "execution_count": 14
        }
      ]
    },
    {
      "cell_type": "code",
      "metadata": {
        "id": "44qiV64dq3G9",
        "colab_type": "code",
        "colab": {}
      },
      "source": [
        "# Converting the data into Torch tensors\n",
        "training_set = torch.FloatTensor(training_set)\n",
        "test_set = torch.FloatTensor(test_set)"
      ],
      "execution_count": 0,
      "outputs": []
    },
    {
      "cell_type": "code",
      "metadata": {
        "id": "un80tKzdq4aU",
        "colab_type": "code",
        "colab": {
          "base_uri": "https://localhost:8080/",
          "height": 34
        },
        "outputId": "fff39583-9fb9-4e3a-8aa6-866487c9db9f"
      },
      "source": [
        "training_set.type"
      ],
      "execution_count": 16,
      "outputs": [
        {
          "output_type": "execute_result",
          "data": {
            "text/plain": [
              "<function Tensor.type>"
            ]
          },
          "metadata": {
            "tags": []
          },
          "execution_count": 16
        }
      ]
    },
    {
      "cell_type": "code",
      "metadata": {
        "id": "AR45FSvfr4z6",
        "colab_type": "code",
        "colab": {}
      },
      "source": [
        "# Creating the architecture of the Neural Network\n",
        "class SAE(nn.Module):\n",
        "    def __init__(self, ):\n",
        "        super(SAE, self).__init__()\n",
        "        self.fc1 = nn.Linear(nb_movies, 20)\n",
        "        self.fc2 = nn.Linear(20, 10)\n",
        "        self.fc3 = nn.Linear(10, 20)\n",
        "        self.fc4 = nn.Linear(20, nb_movies)\n",
        "        self.activation = nn.Sigmoid()\n",
        "    def forward(self, x):\n",
        "        x = self.activation(self.fc1(x))\n",
        "        x = self.activation(self.fc2(x))\n",
        "        x = self.activation(self.fc3(x))\n",
        "        x = self.fc4(x)\n",
        "        return x"
      ],
      "execution_count": 0,
      "outputs": []
    },
    {
      "cell_type": "code",
      "metadata": {
        "id": "l7ubyIVqr8ac",
        "colab_type": "code",
        "colab": {}
      },
      "source": [
        "sae = SAE()\n",
        "criterion = nn.MSELoss()\n",
        "optimizer = optim.RMSprop(sae.parameters(), lr = 0.01, weight_decay = 0.5)"
      ],
      "execution_count": 0,
      "outputs": []
    },
    {
      "cell_type": "code",
      "metadata": {
        "id": "yDiAphHir-aU",
        "colab_type": "code",
        "colab": {
          "base_uri": "https://localhost:8080/",
          "height": 1000
        },
        "outputId": "8e449fc3-2039-4149-b452-1e8d3e7c7e3e"
      },
      "source": [
        "# Training the SAE\n",
        "nb_epoch = 200\n",
        "for epoch in range(1, nb_epoch + 1):\n",
        "    train_loss = 0\n",
        "    s = 0.\n",
        "    for id_user in range(nb_users):\n",
        "        input = Variable(training_set[id_user]).unsqueeze(0)\n",
        "        target = input.clone()\n",
        "        if torch.sum(target.data > 0) > 0:\n",
        "            output = sae(input)\n",
        "            target.require_grad = False\n",
        "            output[target == 0] = 0\n",
        "            loss = criterion(output, target)\n",
        "            mean_corrector = nb_movies/float(torch.sum(target.data > 0) + 1e-10)\n",
        "            loss.backward()\n",
        "            train_loss += np.sqrt(loss.data*mean_corrector)\n",
        "            s += 1.\n",
        "            optimizer.step()\n",
        "    print('epoch: '+str(epoch)+' loss: '+str(train_loss/s))"
      ],
      "execution_count": 19,
      "outputs": [
        {
          "output_type": "stream",
          "text": [
            "epoch: 1 loss: tensor(1.7714)\n",
            "epoch: 2 loss: tensor(1.0967)\n",
            "epoch: 3 loss: tensor(1.0534)\n",
            "epoch: 4 loss: tensor(1.0383)\n",
            "epoch: 5 loss: tensor(1.0308)\n",
            "epoch: 6 loss: tensor(1.0266)\n",
            "epoch: 7 loss: tensor(1.0238)\n",
            "epoch: 8 loss: tensor(1.0220)\n",
            "epoch: 9 loss: tensor(1.0205)\n",
            "epoch: 10 loss: tensor(1.0196)\n",
            "epoch: 11 loss: tensor(1.0187)\n",
            "epoch: 12 loss: tensor(1.0185)\n",
            "epoch: 13 loss: tensor(1.0178)\n",
            "epoch: 14 loss: tensor(1.0177)\n",
            "epoch: 15 loss: tensor(1.0172)\n",
            "epoch: 16 loss: tensor(1.0167)\n",
            "epoch: 17 loss: tensor(1.0165)\n",
            "epoch: 18 loss: tensor(1.0166)\n",
            "epoch: 19 loss: tensor(1.0164)\n",
            "epoch: 20 loss: tensor(1.0161)\n",
            "epoch: 21 loss: tensor(1.0162)\n",
            "epoch: 22 loss: tensor(1.0159)\n",
            "epoch: 23 loss: tensor(1.0157)\n",
            "epoch: 24 loss: tensor(1.0157)\n",
            "epoch: 25 loss: tensor(1.0156)\n",
            "epoch: 26 loss: tensor(1.0157)\n",
            "epoch: 27 loss: tensor(1.0152)\n",
            "epoch: 28 loss: tensor(1.0151)\n",
            "epoch: 29 loss: tensor(1.0140)\n",
            "epoch: 30 loss: tensor(1.0118)\n",
            "epoch: 31 loss: tensor(1.0107)\n",
            "epoch: 32 loss: tensor(1.0075)\n",
            "epoch: 33 loss: tensor(1.0083)\n",
            "epoch: 34 loss: tensor(1.0035)\n",
            "epoch: 35 loss: tensor(1.0031)\n",
            "epoch: 36 loss: tensor(0.9990)\n",
            "epoch: 37 loss: tensor(0.9989)\n",
            "epoch: 38 loss: tensor(0.9955)\n",
            "epoch: 39 loss: tensor(0.9953)\n",
            "epoch: 40 loss: tensor(0.9908)\n",
            "epoch: 41 loss: tensor(0.9910)\n",
            "epoch: 42 loss: tensor(0.9859)\n",
            "epoch: 43 loss: tensor(0.9853)\n",
            "epoch: 44 loss: tensor(0.9842)\n",
            "epoch: 45 loss: tensor(0.9827)\n",
            "epoch: 46 loss: tensor(0.9790)\n",
            "epoch: 47 loss: tensor(0.9754)\n",
            "epoch: 48 loss: tensor(0.9773)\n",
            "epoch: 49 loss: tensor(0.9760)\n",
            "epoch: 50 loss: tensor(0.9702)\n",
            "epoch: 51 loss: tensor(0.9721)\n",
            "epoch: 52 loss: tensor(0.9706)\n",
            "epoch: 53 loss: tensor(0.9700)\n",
            "epoch: 54 loss: tensor(0.9691)\n",
            "epoch: 55 loss: tensor(0.9671)\n",
            "epoch: 56 loss: tensor(0.9658)\n",
            "epoch: 57 loss: tensor(0.9663)\n",
            "epoch: 58 loss: tensor(0.9635)\n",
            "epoch: 59 loss: tensor(0.9657)\n",
            "epoch: 60 loss: tensor(0.9652)\n",
            "epoch: 61 loss: tensor(0.9625)\n",
            "epoch: 62 loss: tensor(0.9603)\n",
            "epoch: 63 loss: tensor(0.9635)\n",
            "epoch: 64 loss: tensor(0.9577)\n",
            "epoch: 65 loss: tensor(0.9616)\n",
            "epoch: 66 loss: tensor(0.9575)\n",
            "epoch: 67 loss: tensor(0.9577)\n",
            "epoch: 68 loss: tensor(0.9551)\n",
            "epoch: 69 loss: tensor(0.9573)\n",
            "epoch: 70 loss: tensor(0.9539)\n",
            "epoch: 71 loss: tensor(0.9526)\n",
            "epoch: 72 loss: tensor(0.9500)\n",
            "epoch: 73 loss: tensor(0.9502)\n",
            "epoch: 74 loss: tensor(0.9496)\n",
            "epoch: 75 loss: tensor(0.9485)\n",
            "epoch: 76 loss: tensor(0.9473)\n",
            "epoch: 77 loss: tensor(0.9463)\n",
            "epoch: 78 loss: tensor(0.9452)\n",
            "epoch: 79 loss: tensor(0.9445)\n",
            "epoch: 80 loss: tensor(0.9426)\n",
            "epoch: 81 loss: tensor(0.9433)\n",
            "epoch: 82 loss: tensor(0.9417)\n",
            "epoch: 83 loss: tensor(0.9424)\n",
            "epoch: 84 loss: tensor(0.9402)\n",
            "epoch: 85 loss: tensor(0.9420)\n",
            "epoch: 86 loss: tensor(0.9398)\n",
            "epoch: 87 loss: tensor(0.9407)\n",
            "epoch: 88 loss: tensor(0.9377)\n",
            "epoch: 89 loss: tensor(0.9389)\n",
            "epoch: 90 loss: tensor(0.9366)\n",
            "epoch: 91 loss: tensor(0.9380)\n",
            "epoch: 92 loss: tensor(0.9354)\n",
            "epoch: 93 loss: tensor(0.9372)\n",
            "epoch: 94 loss: tensor(0.9346)\n",
            "epoch: 95 loss: tensor(0.9352)\n",
            "epoch: 96 loss: tensor(0.9337)\n",
            "epoch: 97 loss: tensor(0.9345)\n",
            "epoch: 98 loss: tensor(0.9326)\n",
            "epoch: 99 loss: tensor(0.9337)\n",
            "epoch: 100 loss: tensor(0.9319)\n",
            "epoch: 101 loss: tensor(0.9332)\n",
            "epoch: 102 loss: tensor(0.9313)\n",
            "epoch: 103 loss: tensor(0.9323)\n",
            "epoch: 104 loss: tensor(0.9305)\n",
            "epoch: 105 loss: tensor(0.9313)\n",
            "epoch: 106 loss: tensor(0.9300)\n",
            "epoch: 107 loss: tensor(0.9311)\n",
            "epoch: 108 loss: tensor(0.9292)\n",
            "epoch: 109 loss: tensor(0.9298)\n",
            "epoch: 110 loss: tensor(0.9289)\n",
            "epoch: 111 loss: tensor(0.9291)\n",
            "epoch: 112 loss: tensor(0.9281)\n",
            "epoch: 113 loss: tensor(0.9289)\n",
            "epoch: 114 loss: tensor(0.9275)\n",
            "epoch: 115 loss: tensor(0.9287)\n",
            "epoch: 116 loss: tensor(0.9273)\n",
            "epoch: 117 loss: tensor(0.9278)\n",
            "epoch: 118 loss: tensor(0.9268)\n",
            "epoch: 119 loss: tensor(0.9270)\n",
            "epoch: 120 loss: tensor(0.9263)\n",
            "epoch: 121 loss: tensor(0.9263)\n",
            "epoch: 122 loss: tensor(0.9260)\n",
            "epoch: 123 loss: tensor(0.9263)\n",
            "epoch: 124 loss: tensor(0.9254)\n",
            "epoch: 125 loss: tensor(0.9255)\n",
            "epoch: 126 loss: tensor(0.9247)\n",
            "epoch: 127 loss: tensor(0.9253)\n",
            "epoch: 128 loss: tensor(0.9242)\n",
            "epoch: 129 loss: tensor(0.9250)\n",
            "epoch: 130 loss: tensor(0.9238)\n",
            "epoch: 131 loss: tensor(0.9245)\n",
            "epoch: 132 loss: tensor(0.9234)\n",
            "epoch: 133 loss: tensor(0.9241)\n",
            "epoch: 134 loss: tensor(0.9229)\n",
            "epoch: 135 loss: tensor(0.9229)\n",
            "epoch: 136 loss: tensor(0.9225)\n",
            "epoch: 137 loss: tensor(0.9226)\n",
            "epoch: 138 loss: tensor(0.9220)\n",
            "epoch: 139 loss: tensor(0.9221)\n",
            "epoch: 140 loss: tensor(0.9219)\n",
            "epoch: 141 loss: tensor(0.9216)\n",
            "epoch: 142 loss: tensor(0.9211)\n",
            "epoch: 143 loss: tensor(0.9210)\n",
            "epoch: 144 loss: tensor(0.9207)\n",
            "epoch: 145 loss: tensor(0.9209)\n",
            "epoch: 146 loss: tensor(0.9203)\n",
            "epoch: 147 loss: tensor(0.9205)\n",
            "epoch: 148 loss: tensor(0.9197)\n",
            "epoch: 149 loss: tensor(0.9200)\n",
            "epoch: 150 loss: tensor(0.9195)\n",
            "epoch: 151 loss: tensor(0.9194)\n",
            "epoch: 152 loss: tensor(0.9190)\n",
            "epoch: 153 loss: tensor(0.9189)\n",
            "epoch: 154 loss: tensor(0.9183)\n",
            "epoch: 155 loss: tensor(0.9188)\n",
            "epoch: 156 loss: tensor(0.9180)\n",
            "epoch: 157 loss: tensor(0.9183)\n",
            "epoch: 158 loss: tensor(0.9179)\n",
            "epoch: 159 loss: tensor(0.9181)\n",
            "epoch: 160 loss: tensor(0.9174)\n",
            "epoch: 161 loss: tensor(0.9178)\n",
            "epoch: 162 loss: tensor(0.9170)\n",
            "epoch: 163 loss: tensor(0.9173)\n",
            "epoch: 164 loss: tensor(0.9168)\n",
            "epoch: 165 loss: tensor(0.9172)\n",
            "epoch: 166 loss: tensor(0.9164)\n",
            "epoch: 167 loss: tensor(0.9165)\n",
            "epoch: 168 loss: tensor(0.9164)\n",
            "epoch: 169 loss: tensor(0.9166)\n",
            "epoch: 170 loss: tensor(0.9158)\n",
            "epoch: 171 loss: tensor(0.9160)\n",
            "epoch: 172 loss: tensor(0.9155)\n",
            "epoch: 173 loss: tensor(0.9157)\n",
            "epoch: 174 loss: tensor(0.9153)\n",
            "epoch: 175 loss: tensor(0.9152)\n",
            "epoch: 176 loss: tensor(0.9147)\n",
            "epoch: 177 loss: tensor(0.9150)\n",
            "epoch: 178 loss: tensor(0.9147)\n",
            "epoch: 179 loss: tensor(0.9147)\n",
            "epoch: 180 loss: tensor(0.9145)\n",
            "epoch: 181 loss: tensor(0.9141)\n",
            "epoch: 182 loss: tensor(0.9140)\n",
            "epoch: 183 loss: tensor(0.9144)\n",
            "epoch: 184 loss: tensor(0.9138)\n",
            "epoch: 185 loss: tensor(0.9138)\n",
            "epoch: 186 loss: tensor(0.9136)\n",
            "epoch: 187 loss: tensor(0.9136)\n",
            "epoch: 188 loss: tensor(0.9131)\n",
            "epoch: 189 loss: tensor(0.9135)\n",
            "epoch: 190 loss: tensor(0.9128)\n",
            "epoch: 191 loss: tensor(0.9132)\n",
            "epoch: 192 loss: tensor(0.9126)\n",
            "epoch: 193 loss: tensor(0.9128)\n",
            "epoch: 194 loss: tensor(0.9124)\n",
            "epoch: 195 loss: tensor(0.9128)\n",
            "epoch: 196 loss: tensor(0.9125)\n",
            "epoch: 197 loss: tensor(0.9125)\n",
            "epoch: 198 loss: tensor(0.9120)\n",
            "epoch: 199 loss: tensor(0.9122)\n",
            "epoch: 200 loss: tensor(0.9119)\n"
          ],
          "name": "stdout"
        }
      ]
    },
    {
      "cell_type": "code",
      "metadata": {
        "id": "Tk1jZS4FsBAE",
        "colab_type": "code",
        "colab": {
          "base_uri": "https://localhost:8080/",
          "height": 34
        },
        "outputId": "aab8f96d-49db-4f91-c9a3-46dcb09d354a"
      },
      "source": [
        "# Testing the SAE\n",
        "test_loss = 0\n",
        "s = 0.\n",
        "for id_user in range(nb_users):\n",
        "    input = Variable(training_set[id_user]).unsqueeze(0)\n",
        "    target = Variable(test_set[id_user]).unsqueeze(0)\n",
        "    if torch.sum(target.data > 0) > 0:\n",
        "        output = sae(input)\n",
        "        target.require_grad = False\n",
        "        output[target == 0] = 0\n",
        "        loss = criterion(output, target)\n",
        "        mean_corrector = nb_movies/float(torch.sum(target.data > 0) + 1e-10)\n",
        "        test_loss += np.sqrt(loss.item()*mean_corrector)\n",
        "        s += 1.\n",
        "print('test loss: '+str(test_loss/s))"
      ],
      "execution_count": 22,
      "outputs": [
        {
          "output_type": "stream",
          "text": [
            "test loss: 0.9497704769461011\n"
          ],
          "name": "stdout"
        }
      ]
    },
    {
      "cell_type": "code",
      "metadata": {
        "id": "Cdh_1iE14hRG",
        "colab_type": "code",
        "colab": {}
      },
      "source": [
        ""
      ],
      "execution_count": 0,
      "outputs": []
    }
  ]
}